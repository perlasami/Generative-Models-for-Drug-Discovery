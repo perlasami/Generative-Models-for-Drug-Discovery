{
  "nbformat": 4,
  "nbformat_minor": 0,
  "metadata": {
    "colab": {
      "provenance": [],
      "gpuType": "T4"
    },
    "kernelspec": {
      "name": "python3",
      "display_name": "Python 3"
    },
    "language_info": {
      "name": "python"
    },
    "accelerator": "GPU"
  },
  "cells": [
    {
      "cell_type": "code",
      "source": [
        "# perla sami younane    320220028\n",
        "# nihal ahmed adly       320220039"
      ],
      "metadata": {
        "id": "IiOEIMQeIUyk"
      },
      "execution_count": null,
      "outputs": []
    },
    {
      "cell_type": "code",
      "execution_count": 5,
      "metadata": {
        "colab": {
          "base_uri": "https://localhost:8080/"
        },
        "id": "Rj0EFbPkuTOW",
        "outputId": "89fc86c0-7fbc-45f0-ccf8-ff846e4c822f"
      },
      "outputs": [
        {
          "output_type": "stream",
          "name": "stdout",
          "text": [
            "Data source import complete.\n"
          ]
        }
      ],
      "source": [
        "# IMPORTANT: RUN THIS CELL IN ORDER TO IMPORT YOUR KAGGLE DATA SOURCES,\n",
        "# THEN FEEL FREE TO DELETE THIS CELL.\n",
        "# NOTE: THIS NOTEBOOK ENVIRONMENT DIFFERS FROM KAGGLE'S PYTHON\n",
        "# ENVIRONMENT SO THERE MAY BE MISSING LIBRARIES USED BY YOUR\n",
        "# NOTEBOOK.\n",
        "import kagglehub\n",
        "basu369victor_zinc250k_path = kagglehub.dataset_download('basu369victor/zinc250k')\n",
        "\n",
        "print('Data source import complete.')\n"
      ]
    },
    {
      "cell_type": "code",
      "source": [
        "# This Python 3 environment comes with many helpful analytics libraries installed\n",
        "# It is defined by the kaggle/python Docker image: https://github.com/kaggle/docker-python\n",
        "# For example, here's several helpful packages to load\n",
        "\n",
        "import numpy as np # linear algebra\n",
        "import pandas as pd # data processing, CSV file I/O (e.g. pd.read_csv)\n",
        "\n",
        "# Input data files are available in the read-only \"../input/\" directory\n",
        "# For example, running this (by clicking run or pressing Shift+Enter) will list all files under the input directory\n",
        "\n",
        "import os\n",
        "for dirname, _, filenames in os.walk('/kaggle/input'):\n",
        "    for filename in filenames:\n",
        "        print(os.path.join(dirname, filename))\n",
        "\n",
        "# You can write up to 20GB to the current directory (/kaggle/working/) that gets preserved as output when you create a version using \"Save & Run All\"\n",
        "# You can also write temporary files to /kaggle/temp/, but they won't be saved outside of the current session"
      ],
      "metadata": {
        "id": "-z2AXPsXukcq"
      },
      "execution_count": 4,
      "outputs": []
    },
    {
      "cell_type": "code",
      "source": [
        "!pip install torch\n",
        "!pip install rdkit-pypi"
      ],
      "metadata": {
        "colab": {
          "base_uri": "https://localhost:8080/"
        },
        "id": "_881fEl2ukZI",
        "outputId": "76f9d313-1c11-4521-df69-024f656c21eb"
      },
      "execution_count": 3,
      "outputs": [
        {
          "output_type": "stream",
          "name": "stdout",
          "text": [
            "Requirement already satisfied: torch in /usr/local/lib/python3.11/dist-packages (2.6.0+cu124)\n",
            "Requirement already satisfied: filelock in /usr/local/lib/python3.11/dist-packages (from torch) (3.18.0)\n",
            "Requirement already satisfied: typing-extensions>=4.10.0 in /usr/local/lib/python3.11/dist-packages (from torch) (4.13.2)\n",
            "Requirement already satisfied: networkx in /usr/local/lib/python3.11/dist-packages (from torch) (3.4.2)\n",
            "Requirement already satisfied: jinja2 in /usr/local/lib/python3.11/dist-packages (from torch) (3.1.6)\n",
            "Requirement already satisfied: fsspec in /usr/local/lib/python3.11/dist-packages (from torch) (2025.3.2)\n",
            "Collecting nvidia-cuda-nvrtc-cu12==12.4.127 (from torch)\n",
            "  Downloading nvidia_cuda_nvrtc_cu12-12.4.127-py3-none-manylinux2014_x86_64.whl.metadata (1.5 kB)\n",
            "Collecting nvidia-cuda-runtime-cu12==12.4.127 (from torch)\n",
            "  Downloading nvidia_cuda_runtime_cu12-12.4.127-py3-none-manylinux2014_x86_64.whl.metadata (1.5 kB)\n",
            "Collecting nvidia-cuda-cupti-cu12==12.4.127 (from torch)\n",
            "  Downloading nvidia_cuda_cupti_cu12-12.4.127-py3-none-manylinux2014_x86_64.whl.metadata (1.6 kB)\n",
            "Collecting nvidia-cudnn-cu12==9.1.0.70 (from torch)\n",
            "  Downloading nvidia_cudnn_cu12-9.1.0.70-py3-none-manylinux2014_x86_64.whl.metadata (1.6 kB)\n",
            "Collecting nvidia-cublas-cu12==12.4.5.8 (from torch)\n",
            "  Downloading nvidia_cublas_cu12-12.4.5.8-py3-none-manylinux2014_x86_64.whl.metadata (1.5 kB)\n",
            "Collecting nvidia-cufft-cu12==11.2.1.3 (from torch)\n",
            "  Downloading nvidia_cufft_cu12-11.2.1.3-py3-none-manylinux2014_x86_64.whl.metadata (1.5 kB)\n",
            "Collecting nvidia-curand-cu12==10.3.5.147 (from torch)\n",
            "  Downloading nvidia_curand_cu12-10.3.5.147-py3-none-manylinux2014_x86_64.whl.metadata (1.5 kB)\n",
            "Collecting nvidia-cusolver-cu12==11.6.1.9 (from torch)\n",
            "  Downloading nvidia_cusolver_cu12-11.6.1.9-py3-none-manylinux2014_x86_64.whl.metadata (1.6 kB)\n",
            "Collecting nvidia-cusparse-cu12==12.3.1.170 (from torch)\n",
            "  Downloading nvidia_cusparse_cu12-12.3.1.170-py3-none-manylinux2014_x86_64.whl.metadata (1.6 kB)\n",
            "Requirement already satisfied: nvidia-cusparselt-cu12==0.6.2 in /usr/local/lib/python3.11/dist-packages (from torch) (0.6.2)\n",
            "Requirement already satisfied: nvidia-nccl-cu12==2.21.5 in /usr/local/lib/python3.11/dist-packages (from torch) (2.21.5)\n",
            "Requirement already satisfied: nvidia-nvtx-cu12==12.4.127 in /usr/local/lib/python3.11/dist-packages (from torch) (12.4.127)\n",
            "Collecting nvidia-nvjitlink-cu12==12.4.127 (from torch)\n",
            "  Downloading nvidia_nvjitlink_cu12-12.4.127-py3-none-manylinux2014_x86_64.whl.metadata (1.5 kB)\n",
            "Requirement already satisfied: triton==3.2.0 in /usr/local/lib/python3.11/dist-packages (from torch) (3.2.0)\n",
            "Requirement already satisfied: sympy==1.13.1 in /usr/local/lib/python3.11/dist-packages (from torch) (1.13.1)\n",
            "Requirement already satisfied: mpmath<1.4,>=1.1.0 in /usr/local/lib/python3.11/dist-packages (from sympy==1.13.1->torch) (1.3.0)\n",
            "Requirement already satisfied: MarkupSafe>=2.0 in /usr/local/lib/python3.11/dist-packages (from jinja2->torch) (3.0.2)\n",
            "Downloading nvidia_cublas_cu12-12.4.5.8-py3-none-manylinux2014_x86_64.whl (363.4 MB)\n",
            "\u001b[2K   \u001b[90m━━━━━━━━━━━━━━━━━━━━━━━━━━━━━━━━━━━━━━━━\u001b[0m \u001b[32m363.4/363.4 MB\u001b[0m \u001b[31m4.0 MB/s\u001b[0m eta \u001b[36m0:00:00\u001b[0m\n",
            "\u001b[?25hDownloading nvidia_cuda_cupti_cu12-12.4.127-py3-none-manylinux2014_x86_64.whl (13.8 MB)\n",
            "\u001b[2K   \u001b[90m━━━━━━━━━━━━━━━━━━━━━━━━━━━━━━━━━━━━━━━━\u001b[0m \u001b[32m13.8/13.8 MB\u001b[0m \u001b[31m123.6 MB/s\u001b[0m eta \u001b[36m0:00:00\u001b[0m\n",
            "\u001b[?25hDownloading nvidia_cuda_nvrtc_cu12-12.4.127-py3-none-manylinux2014_x86_64.whl (24.6 MB)\n",
            "\u001b[2K   \u001b[90m━━━━━━━━━━━━━━━━━━━━━━━━━━━━━━━━━━━━━━━━\u001b[0m \u001b[32m24.6/24.6 MB\u001b[0m \u001b[31m96.6 MB/s\u001b[0m eta \u001b[36m0:00:00\u001b[0m\n",
            "\u001b[?25hDownloading nvidia_cuda_runtime_cu12-12.4.127-py3-none-manylinux2014_x86_64.whl (883 kB)\n",
            "\u001b[2K   \u001b[90m━━━━━━━━━━━━━━━━━━━━━━━━━━━━━━━━━━━━━━━━\u001b[0m \u001b[32m883.7/883.7 kB\u001b[0m \u001b[31m61.9 MB/s\u001b[0m eta \u001b[36m0:00:00\u001b[0m\n",
            "\u001b[?25hDownloading nvidia_cudnn_cu12-9.1.0.70-py3-none-manylinux2014_x86_64.whl (664.8 MB)\n",
            "\u001b[2K   \u001b[90m━━━━━━━━━━━━━━━━━━━━━━━━━━━━━━━━━━━━━━━━\u001b[0m \u001b[32m664.8/664.8 MB\u001b[0m \u001b[31m2.2 MB/s\u001b[0m eta \u001b[36m0:00:00\u001b[0m\n",
            "\u001b[?25hDownloading nvidia_cufft_cu12-11.2.1.3-py3-none-manylinux2014_x86_64.whl (211.5 MB)\n",
            "\u001b[2K   \u001b[90m━━━━━━━━━━━━━━━━━━━━━━━━━━━━━━━━━━━━━━━━\u001b[0m \u001b[32m211.5/211.5 MB\u001b[0m \u001b[31m5.6 MB/s\u001b[0m eta \u001b[36m0:00:00\u001b[0m\n",
            "\u001b[?25hDownloading nvidia_curand_cu12-10.3.5.147-py3-none-manylinux2014_x86_64.whl (56.3 MB)\n",
            "\u001b[2K   \u001b[90m━━━━━━━━━━━━━━━━━━━━━━━━━━━━━━━━━━━━━━━━\u001b[0m \u001b[32m56.3/56.3 MB\u001b[0m \u001b[31m13.4 MB/s\u001b[0m eta \u001b[36m0:00:00\u001b[0m\n",
            "\u001b[?25hDownloading nvidia_cusolver_cu12-11.6.1.9-py3-none-manylinux2014_x86_64.whl (127.9 MB)\n",
            "\u001b[2K   \u001b[90m━━━━━━━━━━━━━━━━━━━━━━━━━━━━━━━━━━━━━━━━\u001b[0m \u001b[32m127.9/127.9 MB\u001b[0m \u001b[31m7.1 MB/s\u001b[0m eta \u001b[36m0:00:00\u001b[0m\n",
            "\u001b[?25hDownloading nvidia_cusparse_cu12-12.3.1.170-py3-none-manylinux2014_x86_64.whl (207.5 MB)\n",
            "\u001b[2K   \u001b[90m━━━━━━━━━━━━━━━━━━━━━━━━━━━━━━━━━━━━━━━━\u001b[0m \u001b[32m207.5/207.5 MB\u001b[0m \u001b[31m6.4 MB/s\u001b[0m eta \u001b[36m0:00:00\u001b[0m\n",
            "\u001b[?25hDownloading nvidia_nvjitlink_cu12-12.4.127-py3-none-manylinux2014_x86_64.whl (21.1 MB)\n",
            "\u001b[2K   \u001b[90m━━━━━━━━━━━━━━━━━━━━━━━━━━━━━━━━━━━━━━━━\u001b[0m \u001b[32m21.1/21.1 MB\u001b[0m \u001b[31m83.8 MB/s\u001b[0m eta \u001b[36m0:00:00\u001b[0m\n",
            "\u001b[?25hInstalling collected packages: nvidia-nvjitlink-cu12, nvidia-curand-cu12, nvidia-cufft-cu12, nvidia-cuda-runtime-cu12, nvidia-cuda-nvrtc-cu12, nvidia-cuda-cupti-cu12, nvidia-cublas-cu12, nvidia-cusparse-cu12, nvidia-cudnn-cu12, nvidia-cusolver-cu12\n",
            "  Attempting uninstall: nvidia-nvjitlink-cu12\n",
            "    Found existing installation: nvidia-nvjitlink-cu12 12.5.82\n",
            "    Uninstalling nvidia-nvjitlink-cu12-12.5.82:\n",
            "      Successfully uninstalled nvidia-nvjitlink-cu12-12.5.82\n",
            "  Attempting uninstall: nvidia-curand-cu12\n",
            "    Found existing installation: nvidia-curand-cu12 10.3.6.82\n",
            "    Uninstalling nvidia-curand-cu12-10.3.6.82:\n",
            "      Successfully uninstalled nvidia-curand-cu12-10.3.6.82\n",
            "  Attempting uninstall: nvidia-cufft-cu12\n",
            "    Found existing installation: nvidia-cufft-cu12 11.2.3.61\n",
            "    Uninstalling nvidia-cufft-cu12-11.2.3.61:\n",
            "      Successfully uninstalled nvidia-cufft-cu12-11.2.3.61\n",
            "  Attempting uninstall: nvidia-cuda-runtime-cu12\n",
            "    Found existing installation: nvidia-cuda-runtime-cu12 12.5.82\n",
            "    Uninstalling nvidia-cuda-runtime-cu12-12.5.82:\n",
            "      Successfully uninstalled nvidia-cuda-runtime-cu12-12.5.82\n",
            "  Attempting uninstall: nvidia-cuda-nvrtc-cu12\n",
            "    Found existing installation: nvidia-cuda-nvrtc-cu12 12.5.82\n",
            "    Uninstalling nvidia-cuda-nvrtc-cu12-12.5.82:\n",
            "      Successfully uninstalled nvidia-cuda-nvrtc-cu12-12.5.82\n",
            "  Attempting uninstall: nvidia-cuda-cupti-cu12\n",
            "    Found existing installation: nvidia-cuda-cupti-cu12 12.5.82\n",
            "    Uninstalling nvidia-cuda-cupti-cu12-12.5.82:\n",
            "      Successfully uninstalled nvidia-cuda-cupti-cu12-12.5.82\n",
            "  Attempting uninstall: nvidia-cublas-cu12\n",
            "    Found existing installation: nvidia-cublas-cu12 12.5.3.2\n",
            "    Uninstalling nvidia-cublas-cu12-12.5.3.2:\n",
            "      Successfully uninstalled nvidia-cublas-cu12-12.5.3.2\n",
            "  Attempting uninstall: nvidia-cusparse-cu12\n",
            "    Found existing installation: nvidia-cusparse-cu12 12.5.1.3\n",
            "    Uninstalling nvidia-cusparse-cu12-12.5.1.3:\n",
            "      Successfully uninstalled nvidia-cusparse-cu12-12.5.1.3\n",
            "  Attempting uninstall: nvidia-cudnn-cu12\n",
            "    Found existing installation: nvidia-cudnn-cu12 9.3.0.75\n",
            "    Uninstalling nvidia-cudnn-cu12-9.3.0.75:\n",
            "      Successfully uninstalled nvidia-cudnn-cu12-9.3.0.75\n",
            "  Attempting uninstall: nvidia-cusolver-cu12\n",
            "    Found existing installation: nvidia-cusolver-cu12 11.6.3.83\n",
            "    Uninstalling nvidia-cusolver-cu12-11.6.3.83:\n",
            "      Successfully uninstalled nvidia-cusolver-cu12-11.6.3.83\n",
            "Successfully installed nvidia-cublas-cu12-12.4.5.8 nvidia-cuda-cupti-cu12-12.4.127 nvidia-cuda-nvrtc-cu12-12.4.127 nvidia-cuda-runtime-cu12-12.4.127 nvidia-cudnn-cu12-9.1.0.70 nvidia-cufft-cu12-11.2.1.3 nvidia-curand-cu12-10.3.5.147 nvidia-cusolver-cu12-11.6.1.9 nvidia-cusparse-cu12-12.3.1.170 nvidia-nvjitlink-cu12-12.4.127\n",
            "Collecting rdkit-pypi\n",
            "  Downloading rdkit_pypi-2022.9.5-cp311-cp311-manylinux_2_17_x86_64.manylinux2014_x86_64.whl.metadata (3.9 kB)\n",
            "Requirement already satisfied: numpy in /usr/local/lib/python3.11/dist-packages (from rdkit-pypi) (2.0.2)\n",
            "Requirement already satisfied: Pillow in /usr/local/lib/python3.11/dist-packages (from rdkit-pypi) (11.2.1)\n",
            "Downloading rdkit_pypi-2022.9.5-cp311-cp311-manylinux_2_17_x86_64.manylinux2014_x86_64.whl (29.4 MB)\n",
            "\u001b[2K   \u001b[90m━━━━━━━━━━━━━━━━━━━━━━━━━━━━━━━━━━━━━━━━\u001b[0m \u001b[32m29.4/29.4 MB\u001b[0m \u001b[31m69.2 MB/s\u001b[0m eta \u001b[36m0:00:00\u001b[0m\n",
            "\u001b[?25hInstalling collected packages: rdkit-pypi\n",
            "Successfully installed rdkit-pypi-2022.9.5\n"
          ]
        }
      ]
    },
    {
      "cell_type": "code",
      "source": [
        "from tensorflow.keras.preprocessing.sequence import pad_sequences # Import from tensorflow.keras\n",
        "\n",
        "# First, install a compatible version of numpy and tensorflow\n",
        "!pip install numpy==1.26.4 tensorflow==2.15.0"
      ],
      "metadata": {
        "colab": {
          "base_uri": "https://localhost:8080/",
          "height": 1000
        },
        "id": "KaE0Ze4QwfzI",
        "outputId": "8f9baeff-472b-4416-ace0-fd12ad64432a"
      },
      "execution_count": 5,
      "outputs": [
        {
          "output_type": "stream",
          "name": "stdout",
          "text": [
            "Collecting numpy==1.26.4\n",
            "  Downloading numpy-1.26.4-cp311-cp311-manylinux_2_17_x86_64.manylinux2014_x86_64.whl.metadata (61 kB)\n",
            "\u001b[?25l     \u001b[90m━━━━━━━━━━━━━━━━━━━━━━━━━━━━━━━━━━━━━━━━\u001b[0m \u001b[32m0.0/61.0 kB\u001b[0m \u001b[31m?\u001b[0m eta \u001b[36m-:--:--\u001b[0m\r\u001b[2K     \u001b[90m━━━━━━━━━━━━━━━━━━━━━━━━━━━━━━━━━━━━━━━━\u001b[0m \u001b[32m61.0/61.0 kB\u001b[0m \u001b[31m4.3 MB/s\u001b[0m eta \u001b[36m0:00:00\u001b[0m\n",
            "\u001b[?25hCollecting tensorflow==2.15.0\n",
            "  Downloading tensorflow-2.15.0-cp311-cp311-manylinux_2_17_x86_64.manylinux2014_x86_64.whl.metadata (4.4 kB)\n",
            "Requirement already satisfied: absl-py>=1.0.0 in /usr/local/lib/python3.11/dist-packages (from tensorflow==2.15.0) (1.4.0)\n",
            "Requirement already satisfied: astunparse>=1.6.0 in /usr/local/lib/python3.11/dist-packages (from tensorflow==2.15.0) (1.6.3)\n",
            "Requirement already satisfied: flatbuffers>=23.5.26 in /usr/local/lib/python3.11/dist-packages (from tensorflow==2.15.0) (25.2.10)\n",
            "Requirement already satisfied: gast!=0.5.0,!=0.5.1,!=0.5.2,>=0.2.1 in /usr/local/lib/python3.11/dist-packages (from tensorflow==2.15.0) (0.6.0)\n",
            "Requirement already satisfied: google-pasta>=0.1.1 in /usr/local/lib/python3.11/dist-packages (from tensorflow==2.15.0) (0.2.0)\n",
            "Requirement already satisfied: h5py>=2.9.0 in /usr/local/lib/python3.11/dist-packages (from tensorflow==2.15.0) (3.13.0)\n",
            "Requirement already satisfied: libclang>=13.0.0 in /usr/local/lib/python3.11/dist-packages (from tensorflow==2.15.0) (18.1.1)\n",
            "Collecting ml-dtypes~=0.2.0 (from tensorflow==2.15.0)\n",
            "  Downloading ml_dtypes-0.2.0-cp311-cp311-manylinux_2_17_x86_64.manylinux2014_x86_64.whl.metadata (20 kB)\n",
            "Requirement already satisfied: opt-einsum>=2.3.2 in /usr/local/lib/python3.11/dist-packages (from tensorflow==2.15.0) (3.4.0)\n",
            "Requirement already satisfied: packaging in /usr/local/lib/python3.11/dist-packages (from tensorflow==2.15.0) (24.2)\n",
            "Collecting protobuf!=4.21.0,!=4.21.1,!=4.21.2,!=4.21.3,!=4.21.4,!=4.21.5,<5.0.0dev,>=3.20.3 (from tensorflow==2.15.0)\n",
            "  Downloading protobuf-4.25.7-cp37-abi3-manylinux2014_x86_64.whl.metadata (541 bytes)\n",
            "Requirement already satisfied: setuptools in /usr/local/lib/python3.11/dist-packages (from tensorflow==2.15.0) (75.2.0)\n",
            "Requirement already satisfied: six>=1.12.0 in /usr/local/lib/python3.11/dist-packages (from tensorflow==2.15.0) (1.17.0)\n",
            "Requirement already satisfied: termcolor>=1.1.0 in /usr/local/lib/python3.11/dist-packages (from tensorflow==2.15.0) (3.1.0)\n",
            "Requirement already satisfied: typing-extensions>=3.6.6 in /usr/local/lib/python3.11/dist-packages (from tensorflow==2.15.0) (4.13.2)\n",
            "Collecting wrapt<1.15,>=1.11.0 (from tensorflow==2.15.0)\n",
            "  Downloading wrapt-1.14.1-cp311-cp311-manylinux_2_5_x86_64.manylinux1_x86_64.manylinux_2_17_x86_64.manylinux2014_x86_64.whl.metadata (6.7 kB)\n",
            "Requirement already satisfied: tensorflow-io-gcs-filesystem>=0.23.1 in /usr/local/lib/python3.11/dist-packages (from tensorflow==2.15.0) (0.37.1)\n",
            "Requirement already satisfied: grpcio<2.0,>=1.24.3 in /usr/local/lib/python3.11/dist-packages (from tensorflow==2.15.0) (1.71.0)\n",
            "Collecting tensorboard<2.16,>=2.15 (from tensorflow==2.15.0)\n",
            "  Downloading tensorboard-2.15.2-py3-none-any.whl.metadata (1.7 kB)\n",
            "Collecting tensorflow-estimator<2.16,>=2.15.0 (from tensorflow==2.15.0)\n",
            "  Downloading tensorflow_estimator-2.15.0-py2.py3-none-any.whl.metadata (1.3 kB)\n",
            "Collecting keras<2.16,>=2.15.0 (from tensorflow==2.15.0)\n",
            "  Downloading keras-2.15.0-py3-none-any.whl.metadata (2.4 kB)\n",
            "Requirement already satisfied: wheel<1.0,>=0.23.0 in /usr/local/lib/python3.11/dist-packages (from astunparse>=1.6.0->tensorflow==2.15.0) (0.45.1)\n",
            "Requirement already satisfied: google-auth<3,>=1.6.3 in /usr/local/lib/python3.11/dist-packages (from tensorboard<2.16,>=2.15->tensorflow==2.15.0) (2.38.0)\n",
            "Requirement already satisfied: google-auth-oauthlib<2,>=0.5 in /usr/local/lib/python3.11/dist-packages (from tensorboard<2.16,>=2.15->tensorflow==2.15.0) (1.2.2)\n",
            "Requirement already satisfied: markdown>=2.6.8 in /usr/local/lib/python3.11/dist-packages (from tensorboard<2.16,>=2.15->tensorflow==2.15.0) (3.8)\n",
            "Requirement already satisfied: requests<3,>=2.21.0 in /usr/local/lib/python3.11/dist-packages (from tensorboard<2.16,>=2.15->tensorflow==2.15.0) (2.32.3)\n",
            "Requirement already satisfied: tensorboard-data-server<0.8.0,>=0.7.0 in /usr/local/lib/python3.11/dist-packages (from tensorboard<2.16,>=2.15->tensorflow==2.15.0) (0.7.2)\n",
            "Requirement already satisfied: werkzeug>=1.0.1 in /usr/local/lib/python3.11/dist-packages (from tensorboard<2.16,>=2.15->tensorflow==2.15.0) (3.1.3)\n",
            "Requirement already satisfied: cachetools<6.0,>=2.0.0 in /usr/local/lib/python3.11/dist-packages (from google-auth<3,>=1.6.3->tensorboard<2.16,>=2.15->tensorflow==2.15.0) (5.5.2)\n",
            "Requirement already satisfied: pyasn1-modules>=0.2.1 in /usr/local/lib/python3.11/dist-packages (from google-auth<3,>=1.6.3->tensorboard<2.16,>=2.15->tensorflow==2.15.0) (0.4.2)\n",
            "Requirement already satisfied: rsa<5,>=3.1.4 in /usr/local/lib/python3.11/dist-packages (from google-auth<3,>=1.6.3->tensorboard<2.16,>=2.15->tensorflow==2.15.0) (4.9.1)\n",
            "Requirement already satisfied: requests-oauthlib>=0.7.0 in /usr/local/lib/python3.11/dist-packages (from google-auth-oauthlib<2,>=0.5->tensorboard<2.16,>=2.15->tensorflow==2.15.0) (2.0.0)\n",
            "Requirement already satisfied: charset-normalizer<4,>=2 in /usr/local/lib/python3.11/dist-packages (from requests<3,>=2.21.0->tensorboard<2.16,>=2.15->tensorflow==2.15.0) (3.4.2)\n",
            "Requirement already satisfied: idna<4,>=2.5 in /usr/local/lib/python3.11/dist-packages (from requests<3,>=2.21.0->tensorboard<2.16,>=2.15->tensorflow==2.15.0) (3.10)\n",
            "Requirement already satisfied: urllib3<3,>=1.21.1 in /usr/local/lib/python3.11/dist-packages (from requests<3,>=2.21.0->tensorboard<2.16,>=2.15->tensorflow==2.15.0) (2.4.0)\n",
            "Requirement already satisfied: certifi>=2017.4.17 in /usr/local/lib/python3.11/dist-packages (from requests<3,>=2.21.0->tensorboard<2.16,>=2.15->tensorflow==2.15.0) (2025.4.26)\n",
            "Requirement already satisfied: MarkupSafe>=2.1.1 in /usr/local/lib/python3.11/dist-packages (from werkzeug>=1.0.1->tensorboard<2.16,>=2.15->tensorflow==2.15.0) (3.0.2)\n",
            "Requirement already satisfied: pyasn1<0.7.0,>=0.6.1 in /usr/local/lib/python3.11/dist-packages (from pyasn1-modules>=0.2.1->google-auth<3,>=1.6.3->tensorboard<2.16,>=2.15->tensorflow==2.15.0) (0.6.1)\n",
            "Requirement already satisfied: oauthlib>=3.0.0 in /usr/local/lib/python3.11/dist-packages (from requests-oauthlib>=0.7.0->google-auth-oauthlib<2,>=0.5->tensorboard<2.16,>=2.15->tensorflow==2.15.0) (3.2.2)\n",
            "Downloading numpy-1.26.4-cp311-cp311-manylinux_2_17_x86_64.manylinux2014_x86_64.whl (18.3 MB)\n",
            "\u001b[2K   \u001b[90m━━━━━━━━━━━━━━━━━━━━━━━━━━━━━━━━━━━━━━━━\u001b[0m \u001b[32m18.3/18.3 MB\u001b[0m \u001b[31m93.3 MB/s\u001b[0m eta \u001b[36m0:00:00\u001b[0m\n",
            "\u001b[?25hDownloading tensorflow-2.15.0-cp311-cp311-manylinux_2_17_x86_64.manylinux2014_x86_64.whl (475.3 MB)\n",
            "\u001b[2K   \u001b[90m━━━━━━━━━━━━━━━━━━━━━━━━━━━━━━━━━━━━━━━━\u001b[0m \u001b[32m475.3/475.3 MB\u001b[0m \u001b[31m2.5 MB/s\u001b[0m eta \u001b[36m0:00:00\u001b[0m\n",
            "\u001b[?25hDownloading keras-2.15.0-py3-none-any.whl (1.7 MB)\n",
            "\u001b[2K   \u001b[90m━━━━━━━━━━━━━━━━━━━━━━━━━━━━━━━━━━━━━━━━\u001b[0m \u001b[32m1.7/1.7 MB\u001b[0m \u001b[31m64.8 MB/s\u001b[0m eta \u001b[36m0:00:00\u001b[0m\n",
            "\u001b[?25hDownloading ml_dtypes-0.2.0-cp311-cp311-manylinux_2_17_x86_64.manylinux2014_x86_64.whl (1.0 MB)\n",
            "\u001b[2K   \u001b[90m━━━━━━━━━━━━━━━━━━━━━━━━━━━━━━━━━━━━━━━━\u001b[0m \u001b[32m1.0/1.0 MB\u001b[0m \u001b[31m63.5 MB/s\u001b[0m eta \u001b[36m0:00:00\u001b[0m\n",
            "\u001b[?25hDownloading protobuf-4.25.7-cp37-abi3-manylinux2014_x86_64.whl (294 kB)\n",
            "\u001b[2K   \u001b[90m━━━━━━━━━━━━━━━━━━━━━━━━━━━━━━━━━━━━━━━━\u001b[0m \u001b[32m294.6/294.6 kB\u001b[0m \u001b[31m27.0 MB/s\u001b[0m eta \u001b[36m0:00:00\u001b[0m\n",
            "\u001b[?25hDownloading tensorboard-2.15.2-py3-none-any.whl (5.5 MB)\n",
            "\u001b[2K   \u001b[90m━━━━━━━━━━━━━━━━━━━━━━━━━━━━━━━━━━━━━━━━\u001b[0m \u001b[32m5.5/5.5 MB\u001b[0m \u001b[31m123.5 MB/s\u001b[0m eta \u001b[36m0:00:00\u001b[0m\n",
            "\u001b[?25hDownloading tensorflow_estimator-2.15.0-py2.py3-none-any.whl (441 kB)\n",
            "\u001b[2K   \u001b[90m━━━━━━━━━━━━━━━━━━━━━━━━━━━━━━━━━━━━━━━━\u001b[0m \u001b[32m442.0/442.0 kB\u001b[0m \u001b[31m34.5 MB/s\u001b[0m eta \u001b[36m0:00:00\u001b[0m\n",
            "\u001b[?25hDownloading wrapt-1.14.1-cp311-cp311-manylinux_2_5_x86_64.manylinux1_x86_64.manylinux_2_17_x86_64.manylinux2014_x86_64.whl (78 kB)\n",
            "\u001b[2K   \u001b[90m━━━━━━━━━━━━━━━━━━━━━━━━━━━━━━━━━━━━━━━━\u001b[0m \u001b[32m78.4/78.4 kB\u001b[0m \u001b[31m7.6 MB/s\u001b[0m eta \u001b[36m0:00:00\u001b[0m\n",
            "\u001b[?25hInstalling collected packages: wrapt, tensorflow-estimator, protobuf, numpy, keras, ml-dtypes, tensorboard, tensorflow\n",
            "  Attempting uninstall: wrapt\n",
            "    Found existing installation: wrapt 1.17.2\n",
            "    Uninstalling wrapt-1.17.2:\n",
            "      Successfully uninstalled wrapt-1.17.2\n",
            "  Attempting uninstall: protobuf\n",
            "    Found existing installation: protobuf 5.29.4\n",
            "    Uninstalling protobuf-5.29.4:\n",
            "      Successfully uninstalled protobuf-5.29.4\n",
            "  Attempting uninstall: numpy\n",
            "    Found existing installation: numpy 2.0.2\n",
            "    Uninstalling numpy-2.0.2:\n",
            "      Successfully uninstalled numpy-2.0.2\n",
            "  Attempting uninstall: keras\n",
            "    Found existing installation: keras 3.8.0\n",
            "    Uninstalling keras-3.8.0:\n",
            "      Successfully uninstalled keras-3.8.0\n",
            "  Attempting uninstall: ml-dtypes\n",
            "    Found existing installation: ml-dtypes 0.4.1\n",
            "    Uninstalling ml-dtypes-0.4.1:\n",
            "      Successfully uninstalled ml-dtypes-0.4.1\n",
            "  Attempting uninstall: tensorboard\n",
            "    Found existing installation: tensorboard 2.18.0\n",
            "    Uninstalling tensorboard-2.18.0:\n",
            "      Successfully uninstalled tensorboard-2.18.0\n",
            "  Attempting uninstall: tensorflow\n",
            "    Found existing installation: tensorflow 2.18.0\n",
            "    Uninstalling tensorflow-2.18.0:\n",
            "      Successfully uninstalled tensorflow-2.18.0\n",
            "\u001b[31mERROR: pip's dependency resolver does not currently take into account all the packages that are installed. This behaviour is the source of the following dependency conflicts.\n",
            "jax 0.5.2 requires ml_dtypes>=0.4.0, but you have ml-dtypes 0.2.0 which is incompatible.\n",
            "thinc 8.3.6 requires numpy<3.0.0,>=2.0.0, but you have numpy 1.26.4 which is incompatible.\n",
            "tensorflow-decision-forests 1.11.0 requires tensorflow==2.18.0, but you have tensorflow 2.15.0 which is incompatible.\n",
            "tensorflow-text 2.18.1 requires tensorflow<2.19,>=2.18.0, but you have tensorflow 2.15.0 which is incompatible.\n",
            "ydf 0.11.0 requires protobuf<6.0.0,>=5.29.1, but you have protobuf 4.25.7 which is incompatible.\n",
            "tensorstore 0.1.74 requires ml_dtypes>=0.3.1, but you have ml-dtypes 0.2.0 which is incompatible.\n",
            "tf-keras 2.18.0 requires tensorflow<2.19,>=2.18, but you have tensorflow 2.15.0 which is incompatible.\n",
            "grpcio-status 1.71.0 requires protobuf<6.0dev,>=5.26.1, but you have protobuf 4.25.7 which is incompatible.\u001b[0m\u001b[31m\n",
            "\u001b[0mSuccessfully installed keras-2.15.0 ml-dtypes-0.2.0 numpy-1.26.4 protobuf-4.25.7 tensorboard-2.15.2 tensorflow-2.15.0 tensorflow-estimator-2.15.0 wrapt-1.14.1\n"
          ]
        },
        {
          "output_type": "display_data",
          "data": {
            "application/vnd.colab-display-data+json": {
              "pip_warning": {
                "packages": [
                  "keras",
                  "ml_dtypes",
                  "tensorboard",
                  "tensorflow",
                  "wrapt"
                ]
              },
              "id": "398a2531f7d846d79873cfc2b3d84a60"
            }
          },
          "metadata": {}
        }
      ]
    },
    {
      "cell_type": "code",
      "source": [
        "\n",
        "import os\n",
        "import re\n",
        "import random\n",
        "import numpy as np\n",
        "import pandas as pd\n",
        "import torch\n",
        "import torch.nn as nn\n",
        "import torch.optim as optim\n",
        "from torch.utils.data import DataLoader, TensorDataset\n",
        "from rdkit import Chem\n",
        "from rdkit.Chem import Descriptors, QED\n",
        "from sklearn.model_selection import train_test_split\n",
        "from torch.utils.tensorboard import SummaryWriter\n",
        "from tqdm import tqdm\n",
        "import pickle\n",
        "from tensorflow.keras.preprocessing.sequence import pad_sequences # Ensure pad_sequences is imported here\n"
      ],
      "metadata": {
        "id": "EcitPc7Uu9ww"
      },
      "execution_count": 1,
      "outputs": []
    },
    {
      "cell_type": "code",
      "source": [
        "device = torch.device(\"cuda\" if torch.cuda.is_available() else \"cpu\")\n",
        "print(f\"Using device: {device}\")"
      ],
      "metadata": {
        "colab": {
          "base_uri": "https://localhost:8080/"
        },
        "id": "bLHFZ5g2u_Vz",
        "outputId": "2105adf8-73a3-4e3e-b928-9236f3d1ff68"
      },
      "execution_count": 2,
      "outputs": [
        {
          "output_type": "stream",
          "name": "stdout",
          "text": [
            "Using device: cuda\n"
          ]
        }
      ]
    },
    {
      "cell_type": "code",
      "source": [
        "basu369victor_zinc250k_path = kagglehub.dataset_download('basu369victor/zinc250k')\n",
        "print(basu369victor_zinc250k_path)\n"
      ],
      "metadata": {
        "colab": {
          "base_uri": "https://localhost:8080/"
        },
        "id": "-eJLPOvBvJLj",
        "outputId": "77bea0ae-621e-4b1c-8e78-f86a904fc4ba"
      },
      "execution_count": 6,
      "outputs": [
        {
          "output_type": "stream",
          "name": "stdout",
          "text": [
            "/kaggle/input/zinc250k\n"
          ]
        }
      ]
    },
    {
      "cell_type": "code",
      "source": [
        "import os\n",
        "\n",
        "for root, dirs, files in os.walk(basu369victor_zinc250k_path):\n",
        "    for file in files:\n",
        "        print(os.path.join(root, file))"
      ],
      "metadata": {
        "colab": {
          "base_uri": "https://localhost:8080/"
        },
        "id": "7bsfEV52vOgj",
        "outputId": "e7f886f1-5daf-4040-af45-ff2a45f58808"
      },
      "execution_count": 8,
      "outputs": [
        {
          "output_type": "stream",
          "name": "stdout",
          "text": [
            "/kaggle/input/zinc250k/250k_rndm_zinc_drugs_clean_3.csv\n"
          ]
        }
      ]
    },
    {
      "cell_type": "code",
      "source": [
        "# Replace '/path/to/your/zinc250k.csv' with the actual path found from the os.walk output\n",
        "df = pd.read_csv('/kaggle/input/zinc250k/250k_rndm_zinc_drugs_clean_3.csv')"
      ],
      "metadata": {
        "id": "zXssCe1pvQSG"
      },
      "execution_count": 7,
      "outputs": []
    },
    {
      "cell_type": "code",
      "source": [
        "df.head()"
      ],
      "metadata": {
        "colab": {
          "base_uri": "https://localhost:8080/",
          "height": 206
        },
        "id": "0Sf9ond1vQwA",
        "outputId": "551d76e2-9067-441f-c944-5245aaca3900"
      },
      "execution_count": 9,
      "outputs": [
        {
          "output_type": "execute_result",
          "data": {
            "text/plain": [
              "                                              smiles     logP       qed  \\\n",
              "0          CC(C)(C)c1ccc2occ(CC(=O)Nc3ccccc3F)c2c1\\n  5.05060  0.702012   \n",
              "1     C[C@@H]1CC(Nc2cncc(-c3nncn3C)c2)C[C@@H](C)C1\\n  3.11370  0.928975   \n",
              "2  N#Cc1ccc(-c2ccc(O[C@@H](C(=O)N3CCCC3)c3ccccc3)...  4.96778  0.599682   \n",
              "3  CCOC(=O)[C@@H]1CCCN(C(=O)c2nc(-c3ccc(C)cc3)n3c...  4.00022  0.690944   \n",
              "4  N#CC1=C(SCC(=O)Nc2cccc(Cl)c2)N=C([O-])[C@H](C#...  3.60956  0.789027   \n",
              "\n",
              "        SAS  \n",
              "0  2.084095  \n",
              "1  3.432004  \n",
              "2  2.470633  \n",
              "3  2.822753  \n",
              "4  4.035182  "
            ],
            "text/html": [
              "\n",
              "  <div id=\"df-b2b422dd-ef16-4544-8971-adf71b5c8500\" class=\"colab-df-container\">\n",
              "    <div>\n",
              "<style scoped>\n",
              "    .dataframe tbody tr th:only-of-type {\n",
              "        vertical-align: middle;\n",
              "    }\n",
              "\n",
              "    .dataframe tbody tr th {\n",
              "        vertical-align: top;\n",
              "    }\n",
              "\n",
              "    .dataframe thead th {\n",
              "        text-align: right;\n",
              "    }\n",
              "</style>\n",
              "<table border=\"1\" class=\"dataframe\">\n",
              "  <thead>\n",
              "    <tr style=\"text-align: right;\">\n",
              "      <th></th>\n",
              "      <th>smiles</th>\n",
              "      <th>logP</th>\n",
              "      <th>qed</th>\n",
              "      <th>SAS</th>\n",
              "    </tr>\n",
              "  </thead>\n",
              "  <tbody>\n",
              "    <tr>\n",
              "      <th>0</th>\n",
              "      <td>CC(C)(C)c1ccc2occ(CC(=O)Nc3ccccc3F)c2c1\\n</td>\n",
              "      <td>5.05060</td>\n",
              "      <td>0.702012</td>\n",
              "      <td>2.084095</td>\n",
              "    </tr>\n",
              "    <tr>\n",
              "      <th>1</th>\n",
              "      <td>C[C@@H]1CC(Nc2cncc(-c3nncn3C)c2)C[C@@H](C)C1\\n</td>\n",
              "      <td>3.11370</td>\n",
              "      <td>0.928975</td>\n",
              "      <td>3.432004</td>\n",
              "    </tr>\n",
              "    <tr>\n",
              "      <th>2</th>\n",
              "      <td>N#Cc1ccc(-c2ccc(O[C@@H](C(=O)N3CCCC3)c3ccccc3)...</td>\n",
              "      <td>4.96778</td>\n",
              "      <td>0.599682</td>\n",
              "      <td>2.470633</td>\n",
              "    </tr>\n",
              "    <tr>\n",
              "      <th>3</th>\n",
              "      <td>CCOC(=O)[C@@H]1CCCN(C(=O)c2nc(-c3ccc(C)cc3)n3c...</td>\n",
              "      <td>4.00022</td>\n",
              "      <td>0.690944</td>\n",
              "      <td>2.822753</td>\n",
              "    </tr>\n",
              "    <tr>\n",
              "      <th>4</th>\n",
              "      <td>N#CC1=C(SCC(=O)Nc2cccc(Cl)c2)N=C([O-])[C@H](C#...</td>\n",
              "      <td>3.60956</td>\n",
              "      <td>0.789027</td>\n",
              "      <td>4.035182</td>\n",
              "    </tr>\n",
              "  </tbody>\n",
              "</table>\n",
              "</div>\n",
              "    <div class=\"colab-df-buttons\">\n",
              "\n",
              "  <div class=\"colab-df-container\">\n",
              "    <button class=\"colab-df-convert\" onclick=\"convertToInteractive('df-b2b422dd-ef16-4544-8971-adf71b5c8500')\"\n",
              "            title=\"Convert this dataframe to an interactive table.\"\n",
              "            style=\"display:none;\">\n",
              "\n",
              "  <svg xmlns=\"http://www.w3.org/2000/svg\" height=\"24px\" viewBox=\"0 -960 960 960\">\n",
              "    <path d=\"M120-120v-720h720v720H120Zm60-500h600v-160H180v160Zm220 220h160v-160H400v160Zm0 220h160v-160H400v160ZM180-400h160v-160H180v160Zm440 0h160v-160H620v160ZM180-180h160v-160H180v160Zm440 0h160v-160H620v160Z\"/>\n",
              "  </svg>\n",
              "    </button>\n",
              "\n",
              "  <style>\n",
              "    .colab-df-container {\n",
              "      display:flex;\n",
              "      gap: 12px;\n",
              "    }\n",
              "\n",
              "    .colab-df-convert {\n",
              "      background-color: #E8F0FE;\n",
              "      border: none;\n",
              "      border-radius: 50%;\n",
              "      cursor: pointer;\n",
              "      display: none;\n",
              "      fill: #1967D2;\n",
              "      height: 32px;\n",
              "      padding: 0 0 0 0;\n",
              "      width: 32px;\n",
              "    }\n",
              "\n",
              "    .colab-df-convert:hover {\n",
              "      background-color: #E2EBFA;\n",
              "      box-shadow: 0px 1px 2px rgba(60, 64, 67, 0.3), 0px 1px 3px 1px rgba(60, 64, 67, 0.15);\n",
              "      fill: #174EA6;\n",
              "    }\n",
              "\n",
              "    .colab-df-buttons div {\n",
              "      margin-bottom: 4px;\n",
              "    }\n",
              "\n",
              "    [theme=dark] .colab-df-convert {\n",
              "      background-color: #3B4455;\n",
              "      fill: #D2E3FC;\n",
              "    }\n",
              "\n",
              "    [theme=dark] .colab-df-convert:hover {\n",
              "      background-color: #434B5C;\n",
              "      box-shadow: 0px 1px 3px 1px rgba(0, 0, 0, 0.15);\n",
              "      filter: drop-shadow(0px 1px 2px rgba(0, 0, 0, 0.3));\n",
              "      fill: #FFFFFF;\n",
              "    }\n",
              "  </style>\n",
              "\n",
              "    <script>\n",
              "      const buttonEl =\n",
              "        document.querySelector('#df-b2b422dd-ef16-4544-8971-adf71b5c8500 button.colab-df-convert');\n",
              "      buttonEl.style.display =\n",
              "        google.colab.kernel.accessAllowed ? 'block' : 'none';\n",
              "\n",
              "      async function convertToInteractive(key) {\n",
              "        const element = document.querySelector('#df-b2b422dd-ef16-4544-8971-adf71b5c8500');\n",
              "        const dataTable =\n",
              "          await google.colab.kernel.invokeFunction('convertToInteractive',\n",
              "                                                    [key], {});\n",
              "        if (!dataTable) return;\n",
              "\n",
              "        const docLinkHtml = 'Like what you see? Visit the ' +\n",
              "          '<a target=\"_blank\" href=https://colab.research.google.com/notebooks/data_table.ipynb>data table notebook</a>'\n",
              "          + ' to learn more about interactive tables.';\n",
              "        element.innerHTML = '';\n",
              "        dataTable['output_type'] = 'display_data';\n",
              "        await google.colab.output.renderOutput(dataTable, element);\n",
              "        const docLink = document.createElement('div');\n",
              "        docLink.innerHTML = docLinkHtml;\n",
              "        element.appendChild(docLink);\n",
              "      }\n",
              "    </script>\n",
              "  </div>\n",
              "\n",
              "\n",
              "    <div id=\"df-6c221cdf-1d07-4a8d-8364-26c6fdfdafcc\">\n",
              "      <button class=\"colab-df-quickchart\" onclick=\"quickchart('df-6c221cdf-1d07-4a8d-8364-26c6fdfdafcc')\"\n",
              "                title=\"Suggest charts\"\n",
              "                style=\"display:none;\">\n",
              "\n",
              "<svg xmlns=\"http://www.w3.org/2000/svg\" height=\"24px\"viewBox=\"0 0 24 24\"\n",
              "     width=\"24px\">\n",
              "    <g>\n",
              "        <path d=\"M19 3H5c-1.1 0-2 .9-2 2v14c0 1.1.9 2 2 2h14c1.1 0 2-.9 2-2V5c0-1.1-.9-2-2-2zM9 17H7v-7h2v7zm4 0h-2V7h2v10zm4 0h-2v-4h2v4z\"/>\n",
              "    </g>\n",
              "</svg>\n",
              "      </button>\n",
              "\n",
              "<style>\n",
              "  .colab-df-quickchart {\n",
              "      --bg-color: #E8F0FE;\n",
              "      --fill-color: #1967D2;\n",
              "      --hover-bg-color: #E2EBFA;\n",
              "      --hover-fill-color: #174EA6;\n",
              "      --disabled-fill-color: #AAA;\n",
              "      --disabled-bg-color: #DDD;\n",
              "  }\n",
              "\n",
              "  [theme=dark] .colab-df-quickchart {\n",
              "      --bg-color: #3B4455;\n",
              "      --fill-color: #D2E3FC;\n",
              "      --hover-bg-color: #434B5C;\n",
              "      --hover-fill-color: #FFFFFF;\n",
              "      --disabled-bg-color: #3B4455;\n",
              "      --disabled-fill-color: #666;\n",
              "  }\n",
              "\n",
              "  .colab-df-quickchart {\n",
              "    background-color: var(--bg-color);\n",
              "    border: none;\n",
              "    border-radius: 50%;\n",
              "    cursor: pointer;\n",
              "    display: none;\n",
              "    fill: var(--fill-color);\n",
              "    height: 32px;\n",
              "    padding: 0;\n",
              "    width: 32px;\n",
              "  }\n",
              "\n",
              "  .colab-df-quickchart:hover {\n",
              "    background-color: var(--hover-bg-color);\n",
              "    box-shadow: 0 1px 2px rgba(60, 64, 67, 0.3), 0 1px 3px 1px rgba(60, 64, 67, 0.15);\n",
              "    fill: var(--button-hover-fill-color);\n",
              "  }\n",
              "\n",
              "  .colab-df-quickchart-complete:disabled,\n",
              "  .colab-df-quickchart-complete:disabled:hover {\n",
              "    background-color: var(--disabled-bg-color);\n",
              "    fill: var(--disabled-fill-color);\n",
              "    box-shadow: none;\n",
              "  }\n",
              "\n",
              "  .colab-df-spinner {\n",
              "    border: 2px solid var(--fill-color);\n",
              "    border-color: transparent;\n",
              "    border-bottom-color: var(--fill-color);\n",
              "    animation:\n",
              "      spin 1s steps(1) infinite;\n",
              "  }\n",
              "\n",
              "  @keyframes spin {\n",
              "    0% {\n",
              "      border-color: transparent;\n",
              "      border-bottom-color: var(--fill-color);\n",
              "      border-left-color: var(--fill-color);\n",
              "    }\n",
              "    20% {\n",
              "      border-color: transparent;\n",
              "      border-left-color: var(--fill-color);\n",
              "      border-top-color: var(--fill-color);\n",
              "    }\n",
              "    30% {\n",
              "      border-color: transparent;\n",
              "      border-left-color: var(--fill-color);\n",
              "      border-top-color: var(--fill-color);\n",
              "      border-right-color: var(--fill-color);\n",
              "    }\n",
              "    40% {\n",
              "      border-color: transparent;\n",
              "      border-right-color: var(--fill-color);\n",
              "      border-top-color: var(--fill-color);\n",
              "    }\n",
              "    60% {\n",
              "      border-color: transparent;\n",
              "      border-right-color: var(--fill-color);\n",
              "    }\n",
              "    80% {\n",
              "      border-color: transparent;\n",
              "      border-right-color: var(--fill-color);\n",
              "      border-bottom-color: var(--fill-color);\n",
              "    }\n",
              "    90% {\n",
              "      border-color: transparent;\n",
              "      border-bottom-color: var(--fill-color);\n",
              "    }\n",
              "  }\n",
              "</style>\n",
              "\n",
              "      <script>\n",
              "        async function quickchart(key) {\n",
              "          const quickchartButtonEl =\n",
              "            document.querySelector('#' + key + ' button');\n",
              "          quickchartButtonEl.disabled = true;  // To prevent multiple clicks.\n",
              "          quickchartButtonEl.classList.add('colab-df-spinner');\n",
              "          try {\n",
              "            const charts = await google.colab.kernel.invokeFunction(\n",
              "                'suggestCharts', [key], {});\n",
              "          } catch (error) {\n",
              "            console.error('Error during call to suggestCharts:', error);\n",
              "          }\n",
              "          quickchartButtonEl.classList.remove('colab-df-spinner');\n",
              "          quickchartButtonEl.classList.add('colab-df-quickchart-complete');\n",
              "        }\n",
              "        (() => {\n",
              "          let quickchartButtonEl =\n",
              "            document.querySelector('#df-6c221cdf-1d07-4a8d-8364-26c6fdfdafcc button');\n",
              "          quickchartButtonEl.style.display =\n",
              "            google.colab.kernel.accessAllowed ? 'block' : 'none';\n",
              "        })();\n",
              "      </script>\n",
              "    </div>\n",
              "\n",
              "    </div>\n",
              "  </div>\n"
            ],
            "application/vnd.google.colaboratory.intrinsic+json": {
              "type": "dataframe",
              "variable_name": "df"
            }
          },
          "metadata": {},
          "execution_count": 9
        }
      ]
    },
    {
      "cell_type": "code",
      "source": [
        "smiles_list = df['smiles'].tolist()"
      ],
      "metadata": {
        "id": "m3V4PEPcvWFO"
      },
      "execution_count": 11,
      "outputs": []
    },
    {
      "cell_type": "code",
      "source": [
        "# Filter valid SMILES\n",
        "def filter_valid_smiles(smiles_list):\n",
        "    valid = []\n",
        "    for sm in smiles_list:\n",
        "        mol = Chem.MolFromSmiles(sm)\n",
        "        if mol:\n",
        "            valid.append(sm)\n",
        "    return valid\n",
        "\n",
        "valid_smiles = filter_valid_smiles(smiles_list)\n",
        "print(f\"Valid SMILES: {len(valid_smiles)}\")"
      ],
      "metadata": {
        "colab": {
          "base_uri": "https://localhost:8080/"
        },
        "id": "Bzzib7zLvY8j",
        "outputId": "33d0b329-29c5-488e-d007-1e12a19fe349"
      },
      "execution_count": 12,
      "outputs": [
        {
          "output_type": "stream",
          "name": "stdout",
          "text": [
            "Valid SMILES: 249455\n"
          ]
        }
      ]
    },
    {
      "cell_type": "code",
      "source": [
        "# Build vocabulary\n",
        "all_chars = set(''.join(valid_smiles))\n",
        "vocab = ['<PAD>', '<START>', '<END>', '<UNK>'] + sorted(all_chars)\n",
        "char_to_idx = {c: i for i, c in enumerate(vocab)}\n",
        "idx_to_char = {i: c for i, c in enumerate(vocab)}\n",
        "\n",
        "MAX_LEN = 120\n",
        "\n",
        "def sm_to_token_ids(sm, char_to_idx):\n",
        "    tokens = list(sm)\n",
        "    ids = [char_to_idx.get(c, char_to_idx['<UNK>']) for c in tokens]\n",
        "    return [char_to_idx['<START>']] + ids + [char_to_idx['<END>']]"
      ],
      "metadata": {
        "id": "hhU3X__pveSu"
      },
      "execution_count": 13,
      "outputs": []
    },
    {
      "cell_type": "code",
      "source": [
        "\n",
        "# Pad sequences\n",
        "from keras.preprocessing.sequence import pad_sequences\n",
        "\n",
        "tokenized = [sm_to_token_ids(sm, char_to_idx) for sm in valid_smiles]\n",
        "padded = pad_sequences(tokenized, padding='post', maxlen=MAX_LEN + 2)\n",
        "\n",
        "# Convert to PyTorch tensors\n",
        "data_tensor = torch.tensor(padded, dtype=torch.long)\n",
        "\n",
        "# Split data\n",
        "train_data, val_data = train_test_split(data_tensor, test_size=0.2, random_state=42)\n",
        "train_loader = DataLoader(TensorDataset(train_data), batch_size=64, shuffle=True)\n",
        "val_loader = DataLoader(TensorDataset(val_data), batch_size=64, shuffle=False)"
      ],
      "metadata": {
        "id": "GAjiEAxTvgZK"
      },
      "execution_count": 14,
      "outputs": []
    },
    {
      "cell_type": "code",
      "source": [
        "# 2. Define Model\n",
        "# -----------------------------\n",
        "\n",
        "class LSTMGenerator(nn.Module):\n",
        "    def __init__(self, vocab_size, embed_dim=128, hidden_dim=512, num_layers=2):\n",
        "        super().__init__()\n",
        "        self.embedding = nn.Embedding(vocab_size, embed_dim)\n",
        "        self.lstm = nn.LSTM(embed_dim, hidden_dim, num_layers, batch_first=True)\n",
        "        self.linear = nn.Linear(hidden_dim, vocab_size)\n",
        "\n",
        "    def forward(self, x):\n",
        "        x = self.embedding(x)\n",
        "        out, _ = self.lstm(x)\n",
        "        logits = self.linear(out)\n",
        "        return logits\n",
        "\n",
        "model = LSTMGenerator(len(vocab)).to(device)"
      ],
      "metadata": {
        "id": "HsZan7HPviXY"
      },
      "execution_count": 15,
      "outputs": []
    },
    {
      "cell_type": "code",
      "source": [
        "# 3. Define Loss, Optimizer, LR Scheduler\n",
        "# -----------------------------\n",
        "\n",
        "optimizer = optim.Adam(model.parameters(), lr=0.001)\n",
        "criterion = nn.CrossEntropyLoss(ignore_index=char_to_idx['<PAD>'])\n",
        "scheduler = optim.lr_scheduler.ReduceLROnPlateau(optimizer, patience=2, factor=0.5, verbose=True)\n",
        "\n",
        "# TensorBoard writer\n",
        "writer = SummaryWriter()"
      ],
      "metadata": {
        "colab": {
          "base_uri": "https://localhost:8080/"
        },
        "id": "hOllJai9vkiw",
        "outputId": "dbc1a61f-da26-43d6-f09e-d464a7ea1c57"
      },
      "execution_count": 16,
      "outputs": [
        {
          "output_type": "stream",
          "name": "stderr",
          "text": [
            "/usr/local/lib/python3.11/dist-packages/torch/optim/lr_scheduler.py:62: UserWarning: The verbose parameter is deprecated. Please use get_last_lr() to access the learning rate.\n",
            "  warnings.warn(\n"
          ]
        }
      ]
    },
    {
      "cell_type": "code",
      "source": [
        "# 4. Accuracy Calculation\n",
        "# -----------------------------\n",
        "\n",
        "def calculate_accuracy(outputs, targets, pad_token):\n",
        "    predictions = outputs.argmax(dim=-1)\n",
        "    mask = (targets != pad_token)\n",
        "    correct = ((predictions == targets) & mask).sum().item()\n",
        "    total = mask.sum().item()\n",
        "    return correct / total if total > 0 else 0.0"
      ],
      "metadata": {
        "id": "iTaWNeJivmmb"
      },
      "execution_count": 17,
      "outputs": []
    },
    {
      "cell_type": "code",
      "source": [
        "\n",
        "# 5. Training Loop\n",
        "# -----------------------------\n",
        "\n",
        "best_val_loss = float('inf')\n",
        "patience = 3\n",
        "no_improvement = 0\n",
        "EPOCHS = 30\n",
        "\n",
        "for epoch in range(EPOCHS):\n",
        "    model.train()\n",
        "    total_loss = 0\n",
        "    total_acc = 0\n",
        "    count = 0\n",
        "    loop = tqdm(train_loader, desc=f\"Epoch {epoch+1}\", leave=False)\n",
        "\n",
        "    for batch in loop:\n",
        "        x = batch[0].to(device)\n",
        "        inputs = x[:, :-1]\n",
        "        targets = x[:, 1:]\n",
        "\n",
        "        outputs = model(inputs)\n",
        "        loss = criterion(outputs.reshape(-1, len(vocab)), targets.reshape(-1))\n",
        "\n",
        "        optimizer.zero_grad()\n",
        "        loss.backward()\n",
        "        optimizer.step()\n",
        "\n",
        "        acc = calculate_accuracy(outputs, targets, char_to_idx['<PAD>'])\n",
        "        total_loss += loss.item()\n",
        "        total_acc += acc\n",
        "        count += 1\n",
        "\n",
        "        loop.set_postfix(loss=loss.item(), accuracy=acc)\n",
        "\n",
        "    avg_train_loss = total_loss / count\n",
        "    avg_train_acc = total_acc / count\n",
        "\n",
        "    # Validate\n",
        "    model.eval()\n",
        "    val_loss, val_acc = 0, 0\n",
        "    val_count = 0\n",
        "    with torch.no_grad():\n",
        "        for batch in val_loader:\n",
        "            x = batch[0].to(device)\n",
        "            inputs = x[:, :-1]\n",
        "            targets = x[:, 1:]\n",
        "            outputs = model(inputs)\n",
        "            loss = criterion(outputs.reshape(-1, len(vocab)), targets.reshape(-1))\n",
        "            acc = calculate_accuracy(outputs, targets, char_to_idx['<PAD>'])\n",
        "            val_loss += loss.item()\n",
        "            val_acc += acc\n",
        "            val_count += 1\n",
        "\n",
        "    avg_val_loss = val_loss / val_count\n",
        "    avg_val_acc = val_acc / val_count\n",
        "\n",
        "    print(f\"\\nEpoch {epoch+1}\")\n",
        "    print(f\"Train Loss: {avg_train_loss:.4f}, Train Acc: {avg_train_acc*100:.2f}%\")\n",
        "    print(f\"Val Loss: {avg_val_loss:.4f}, Val Acc: {avg_val_acc*100:.2f}%\")\n",
        "\n",
        "    # TensorBoard logging\n",
        "    writer.add_scalar(\"Loss/train\", avg_train_loss, epoch)\n",
        "    writer.add_scalar(\"Accuracy/train\", avg_train_acc, epoch)\n",
        "    writer.add_scalar(\"Loss/val\", avg_val_loss, epoch)\n",
        "    writer.add_scalar(\"Accuracy/val\", avg_val_acc, epoch)\n",
        "\n",
        "    # Early Stopping\n",
        "    if avg_val_loss < best_val_loss:\n",
        "        best_val_loss = avg_val_loss\n",
        "        torch.save(model.state_dict(), \"best_lstm_generator.pth\")\n",
        "        no_improvement = 0\n",
        "        print(\"✅ Best model saved.\")\n",
        "    else:\n",
        "        no_improvement += 1\n",
        "        print(f\"⚠️ No improvement: {no_improvement}/{patience}\")\n",
        "\n",
        "    if no_improvement >= patience:\n",
        "        print(\"🛑 Early stopping triggered.\")\n",
        "        break\n",
        "\n",
        "# -----------------------------\n",
        "# 6. Save Vocabulary and Model\n",
        "# -----------------------------\n",
        "\n",
        "with open(\"vocab.pkl\", \"wb\") as f:\n",
        "    pickle.dump({\n",
        "        \"vocab\": vocab,\n",
        "        \"char_to_idx\": char_to_idx,\n",
        "        \"idx_to_char\": idx_to_char\n",
        "    }, f)\n",
        "\n",
        "torch.save(model.state_dict(), \"best_lstm_generator.pth\")\n",
        "print(\"📦 Model and vocab saved.\")\n",
        "\n",
        "# -----------------------------\n",
        "# 7. Generate New Molecules\n",
        "# -----------------------------\n",
        "\n",
        "def generate_smiles(model, idx_to_char, char_to_idx, max_len=120):\n",
        "    model.eval()\n",
        "    with torch.no_grad():\n",
        "        input_seq = torch.tensor([[char_to_idx['<START>']]], device=device)\n",
        "        generated = []\n",
        "        for _ in range(max_len):\n",
        "            output = model(input_seq)\n",
        "            last_token_logits = output[0, -1, :]\n",
        "            probs = torch.softmax(last_token_logits, dim=-1)\n",
        "            pred_id = torch.multinomial(probs, 1).item()\n",
        "            if pred_id == char_to_idx['<END>']:\n",
        "                break\n",
        "            char = idx_to_char[pred_id]\n",
        "            generated.append(char)\n",
        "            input_seq = torch.cat([input_seq, torch.tensor([[pred_id]], device=device)], dim=1)\n",
        "        return ''.join(generated)\n",
        "\n",
        "# Validate molecule\n",
        "def validate_molecule(smile):\n",
        "    mol = Chem.MolFromSmiles(smile)\n",
        "    return mol is not None\n",
        "\n",
        "# Generate and evaluate\n",
        "generated_smiles = [generate_smiles(model, idx_to_char, char_to_idx) for _ in range(100)]\n",
        "valid = [s for s in generated_smiles if validate_molecule(s)]\n",
        "\n",
        "print(f\"\\n🧪 Generated Molecules:\")\n",
        "for sm in valid[:10]:\n",
        "    print(sm)\n",
        "\n",
        "print(f\"\\n✅ Valid molecules: {len(valid)} / 100\")\n",
        "\n",
        "# -----------------------------\n",
        "# 8. Calculate Molecular Properties\n",
        "# -----------------------------\n",
        "\n",
        "def get_properties(smile):\n",
        "    mol = Chem.MolFromSmiles(smile)\n",
        "    if mol:\n",
        "        return {\n",
        "            'logP': Descriptors.MolLogP(mol),\n",
        "            'QED': QED.qed(mol),\n",
        "        }\n",
        "    return None\n",
        "\n",
        "props = [get_properties(sm) for sm in valid]\n",
        "if props:\n",
        "    logps = [p['logP'] for p in props if p]\n",
        "    qeds = [p['QED'] for p in props if p]\n",
        "    print(f\"Avg LogP: {np.mean(logps):.2f}, Avg QED: {np.mean(qeds):.2f}\")\n",
        "else:\n",
        "    print(\"No valid molecules to compute properties.\")"
      ],
      "metadata": {
        "colab": {
          "base_uri": "https://localhost:8080/"
        },
        "id": "X2rvWsyKukXK",
        "outputId": "857b2d51-474e-4aad-e152-6349c772f178"
      },
      "execution_count": 18,
      "outputs": [
        {
          "output_type": "stream",
          "name": "stderr",
          "text": []
        },
        {
          "output_type": "stream",
          "name": "stdout",
          "text": [
            "\n",
            "Epoch 1\n",
            "Train Loss: 0.6752, Train Acc: 76.12%\n",
            "Val Loss: 0.5794, Val Acc: 78.61%\n",
            "✅ Best model saved.\n"
          ]
        },
        {
          "output_type": "stream",
          "name": "stderr",
          "text": []
        },
        {
          "output_type": "stream",
          "name": "stdout",
          "text": [
            "\n",
            "Epoch 2\n",
            "Train Loss: 0.5544, Train Acc: 79.53%\n",
            "Val Loss: 0.5448, Val Acc: 79.79%\n",
            "✅ Best model saved.\n"
          ]
        },
        {
          "output_type": "stream",
          "name": "stderr",
          "text": []
        },
        {
          "output_type": "stream",
          "name": "stdout",
          "text": [
            "\n",
            "Epoch 3\n",
            "Train Loss: 0.5282, Train Acc: 80.32%\n",
            "Val Loss: 0.5278, Val Acc: 80.32%\n",
            "✅ Best model saved.\n"
          ]
        },
        {
          "output_type": "stream",
          "name": "stderr",
          "text": []
        },
        {
          "output_type": "stream",
          "name": "stdout",
          "text": [
            "\n",
            "Epoch 4\n",
            "Train Loss: 0.5123, Train Acc: 80.82%\n",
            "Val Loss: 0.5184, Val Acc: 80.66%\n",
            "✅ Best model saved.\n"
          ]
        },
        {
          "output_type": "stream",
          "name": "stderr",
          "text": []
        },
        {
          "output_type": "stream",
          "name": "stdout",
          "text": [
            "\n",
            "Epoch 5\n",
            "Train Loss: 0.5012, Train Acc: 81.15%\n",
            "Val Loss: 0.5135, Val Acc: 80.80%\n",
            "✅ Best model saved.\n"
          ]
        },
        {
          "output_type": "stream",
          "name": "stderr",
          "text": []
        },
        {
          "output_type": "stream",
          "name": "stdout",
          "text": [
            "\n",
            "Epoch 6\n",
            "Train Loss: 0.4929, Train Acc: 81.40%\n",
            "Val Loss: 0.5094, Val Acc: 80.93%\n",
            "✅ Best model saved.\n"
          ]
        },
        {
          "output_type": "stream",
          "name": "stderr",
          "text": []
        },
        {
          "output_type": "stream",
          "name": "stdout",
          "text": [
            "\n",
            "Epoch 7\n",
            "Train Loss: 0.4866, Train Acc: 81.61%\n",
            "Val Loss: 0.5069, Val Acc: 81.04%\n",
            "✅ Best model saved.\n"
          ]
        },
        {
          "output_type": "stream",
          "name": "stderr",
          "text": []
        },
        {
          "output_type": "stream",
          "name": "stdout",
          "text": [
            "\n",
            "Epoch 8\n",
            "Train Loss: 0.4815, Train Acc: 81.77%\n",
            "Val Loss: 0.5059, Val Acc: 81.03%\n",
            "✅ Best model saved.\n"
          ]
        },
        {
          "output_type": "stream",
          "name": "stderr",
          "text": []
        },
        {
          "output_type": "stream",
          "name": "stdout",
          "text": [
            "\n",
            "Epoch 9\n",
            "Train Loss: 0.4774, Train Acc: 81.87%\n",
            "Val Loss: 0.5060, Val Acc: 81.04%\n",
            "⚠️ No improvement: 1/3\n"
          ]
        },
        {
          "output_type": "stream",
          "name": "stderr",
          "text": []
        },
        {
          "output_type": "stream",
          "name": "stdout",
          "text": [
            "\n",
            "Epoch 10\n",
            "Train Loss: 0.4738, Train Acc: 81.99%\n",
            "Val Loss: 0.5045, Val Acc: 81.13%\n",
            "✅ Best model saved.\n"
          ]
        },
        {
          "output_type": "stream",
          "name": "stderr",
          "text": []
        },
        {
          "output_type": "stream",
          "name": "stdout",
          "text": [
            "\n",
            "Epoch 11\n",
            "Train Loss: 0.4710, Train Acc: 82.07%\n",
            "Val Loss: 0.5044, Val Acc: 81.14%\n",
            "✅ Best model saved.\n"
          ]
        },
        {
          "output_type": "stream",
          "name": "stderr",
          "text": []
        },
        {
          "output_type": "stream",
          "name": "stdout",
          "text": [
            "\n",
            "Epoch 12\n",
            "Train Loss: 0.4685, Train Acc: 82.16%\n",
            "Val Loss: 0.5040, Val Acc: 81.12%\n",
            "✅ Best model saved.\n"
          ]
        },
        {
          "output_type": "stream",
          "name": "stderr",
          "text": []
        },
        {
          "output_type": "stream",
          "name": "stdout",
          "text": [
            "\n",
            "Epoch 13\n",
            "Train Loss: 0.4666, Train Acc: 82.22%\n",
            "Val Loss: 0.5039, Val Acc: 81.15%\n",
            "✅ Best model saved.\n"
          ]
        },
        {
          "output_type": "stream",
          "name": "stderr",
          "text": []
        },
        {
          "output_type": "stream",
          "name": "stdout",
          "text": [
            "\n",
            "Epoch 14\n",
            "Train Loss: 0.4652, Train Acc: 82.26%\n",
            "Val Loss: 0.5042, Val Acc: 81.14%\n",
            "⚠️ No improvement: 1/3\n"
          ]
        },
        {
          "output_type": "stream",
          "name": "stderr",
          "text": []
        },
        {
          "output_type": "stream",
          "name": "stdout",
          "text": [
            "\n",
            "Epoch 15\n",
            "Train Loss: 0.4639, Train Acc: 82.30%\n",
            "Val Loss: 0.5043, Val Acc: 81.16%\n",
            "⚠️ No improvement: 2/3\n"
          ]
        },
        {
          "output_type": "stream",
          "name": "stderr",
          "text": []
        },
        {
          "output_type": "stream",
          "name": "stdout",
          "text": [
            "\n",
            "Epoch 16\n",
            "Train Loss: 0.4636, Train Acc: 82.31%\n",
            "Val Loss: 0.5055, Val Acc: 81.13%\n",
            "⚠️ No improvement: 3/3\n",
            "🛑 Early stopping triggered.\n",
            "📦 Model and vocab saved.\n"
          ]
        },
        {
          "output_type": "stream",
          "name": "stderr",
          "text": [
            "[19:50:27] SMILES Parse Error: unclosed ring for input: 'CC(=O)Nc1ccc(C(=O)Nc2ccc3c(c2)nc(C2(CC2)OC(C)(C)C2)n3C)cc1\n",
            "'\n",
            "[19:50:28] Can't kekulize mol.  Unkekulized atoms: 1 2 3 6 7 19 21\n",
            "[19:50:28] Can't kekulize mol.  Unkekulized atoms: 11 12 13 14 15 16 17\n",
            "[19:50:28] SMILES Parse Error: unclosed ring for input: 'CCCN(c1nc2c(cnn2C)c(=O)c1CCC)s1\n",
            "'\n"
          ]
        },
        {
          "output_type": "stream",
          "name": "stdout",
          "text": [
            "\n",
            "🧪 Generated Molecules:\n",
            "COCC[C@@H](C)C(=O)NCCc1ccno1\n",
            "\n",
            "CCC[NH+](CC(=O)NCc1csc(C)n1)Cc1ccccn1\n",
            "\n",
            "CC[C@H]1CC[C@](O)(Cc2ccc(OC)cc2)C1\n",
            "\n",
            "CCSc1ccccc1C(=O)N1CCC(c2nc(-c3ccncc3)no2)CC1\n",
            "\n",
            "O=C(Cc1ccc(F)cc1)Nc1ncc(Cc2ccc(F)cc2)s1\n",
            "\n",
            "CCC[C@H]1CN(C(=O)Cc2ccc([N+](=O)[O-])cc2)CCO1\n",
            "\n",
            "O=C([O-])Cc1csc(=O)n1Cc1ccc(F)cc1\n",
            "\n",
            "CC[NH+]1CCN(c2ncnc(Nc3ccccn3)c2N)CC1\n",
            "\n",
            "O=[N+]([O-])c1ccc(-c2nc(CO)cs2)cc1\n",
            "\n",
            "COc1ccccc1CC(=O)N1CCN(c2ncnc3ccsc23)CC1\n",
            "\n",
            "\n",
            "✅ Valid molecules: 96 / 100\n",
            "Avg LogP: 2.43, Avg QED: 0.74\n"
          ]
        }
      ]
    },
    {
      "cell_type": "code",
      "source": [
        "# -----------------------------\n",
        "# 8. Calculate Molecular Properties\n",
        "# -----------------------------\n",
        "\n",
        "def get_properties(smile):\n",
        "    mol = Chem.MolFromSmiles(smile)\n",
        "    if mol:\n",
        "        return {\n",
        "            'logP': Descriptors.MolLogP(mol),\n",
        "            'QED': QED.qed(mol),\n",
        "        }\n",
        "    return None\n",
        "\n",
        "props = [get_properties(sm) for sm in valid]\n",
        "if props:\n",
        "    logps = [p['logP'] for p in props if p]\n",
        "    qeds = [p['QED'] for p in props if p]\n",
        "    print(f\"Avg LogP: {np.mean(logps):.2f}, Avg QED: {np.mean(qeds):.2f}\")\n",
        "else:\n",
        "    print(\"No valid molecules to compute properties.\")\n",
        "\n",
        "# Create the results_df DataFrame\n",
        "# Filter out None values from props and corresponding valid SMILES\n",
        "valid_with_props = [(valid[i], p) for i, p in enumerate(props) if p is not None]\n",
        "\n",
        "# Extract SMILES and properties into separate lists for DataFrame creation\n",
        "smiles_for_df = [item[0] for item in valid_with_props]\n",
        "qed_for_df = [item[1]['QED'] for item in valid_with_props]\n",
        "logp_for_df = [item[1]['logP'] for item in valid_with_props]\n",
        "\n",
        "# Create the DataFrame\n",
        "results_df = pd.DataFrame({\n",
        "    'SMILES': smiles_for_df,\n",
        "    'QED': qed_for_df,\n",
        "    'LogP': logp_for_df\n",
        "})\n",
        "\n",
        "# Now you can use results_df\n",
        "top_mols = results_df.sort_values(by='QED', ascending=False).head(10)\n",
        "print(top_mols[['SMILES', 'QED', 'LogP']])\n",
        "\n",
        "# %%\n",
        "import seaborn as sns\n",
        "import matplotlib.pyplot as plt\n",
        "\n",
        "sns.histplot(results_df['QED'], bins=20, kde=True)\n",
        "plt.title(\"Distribution of QED in Generated Molecules\")\n",
        "plt.show()\n",
        "\n",
        "# %%\n",
        "# Save top 50 molecules sorted by QED\n",
        "results_df.sort_values(by='QED', ascending=False).head(50).to_csv(\"top_candidates.csv\", index=False)"
      ],
      "metadata": {
        "colab": {
          "base_uri": "https://localhost:8080/",
          "height": 680
        },
        "id": "53o1I745FJ0I",
        "outputId": "f672613f-04f5-4782-eda5-03dc0dc30a7d"
      },
      "execution_count": 64,
      "outputs": [
        {
          "output_type": "stream",
          "name": "stdout",
          "text": [
            "Avg LogP: 2.43, Avg QED: 0.74\n",
            "                                           SMILES       QED     LogP\n",
            "40            Cc1ncc(CN2CC[C@H](c3ccccc3O)C2)s1\\n  0.933785  3.14662\n",
            "12         Cc1ccc(C)c([C@H](C)NC(=O)c2occc2C)c1\\n  0.910648  3.69586\n",
            "20                COc1ccccc1CN(C)C(=O)c1nccnc1N\\n  0.907917  1.33960\n",
            "25   O=C1[C@@H](N2CCN(c3cccc(Cl)c3)CC2)CCCN1CCO\\n  0.902999  1.44530\n",
            "76   CC[NH+]1CCCC[C@@H]1CN(C)C(=O)c1csc2c1CCCC2\\n  0.902972  2.15620\n",
            "73  Cc1cnc(C(=O)N2CCC[C@H](CCC(=O)NC(C)C)C2)cn1\\n  0.900063  1.94202\n",
            "51      CC(C)NC(=O)C[C@H]1CCCCN1C(=O)Nc1ccccc1F\\n  0.894821  3.12680\n",
            "19            O=C(NC[C@H]1COCCO1)c1nccc2cccnc12\\n  0.894073  0.77500\n",
            "37                    O[C@H](c1ccco1)c1ccccc1Br\\n  0.891432  3.12380\n",
            "95     COc1cc(OC)cc(C(=O)NC[C@@H](C)c2ccccc2)c1\\n  0.890508  3.23730\n"
          ]
        },
        {
          "output_type": "display_data",
          "data": {
            "text/plain": [
              "<Figure size 640x480 with 1 Axes>"
            ],
            "image/png": "[encoded data removed]"
          },
          "metadata": {}
        }
      ]
    },
    {
      "cell_type": "code",
      "source": [
        "top_mols = results_df.sort_values(by='QED', ascending=False).head(10)\n",
        "print(top_mols[['SMILES', 'QED', 'LogP']])"
      ],
      "metadata": {
        "colab": {
          "base_uri": "https://localhost:8080/"
        },
        "id": "cxic5CEdDysv",
        "outputId": "4fdaf1d2-9a0a-478b-f51e-4d5f0c76e117"
      },
      "execution_count": 65,
      "outputs": [
        {
          "output_type": "stream",
          "name": "stdout",
          "text": [
            "                                           SMILES       QED     LogP\n",
            "40            Cc1ncc(CN2CC[C@H](c3ccccc3O)C2)s1\\n  0.933785  3.14662\n",
            "12         Cc1ccc(C)c([C@H](C)NC(=O)c2occc2C)c1\\n  0.910648  3.69586\n",
            "20                COc1ccccc1CN(C)C(=O)c1nccnc1N\\n  0.907917  1.33960\n",
            "25   O=C1[C@@H](N2CCN(c3cccc(Cl)c3)CC2)CCCN1CCO\\n  0.902999  1.44530\n",
            "76   CC[NH+]1CCCC[C@@H]1CN(C)C(=O)c1csc2c1CCCC2\\n  0.902972  2.15620\n",
            "73  Cc1cnc(C(=O)N2CCC[C@H](CCC(=O)NC(C)C)C2)cn1\\n  0.900063  1.94202\n",
            "51      CC(C)NC(=O)C[C@H]1CCCCN1C(=O)Nc1ccccc1F\\n  0.894821  3.12680\n",
            "19            O=C(NC[C@H]1COCCO1)c1nccc2cccnc12\\n  0.894073  0.77500\n",
            "37                    O[C@H](c1ccco1)c1ccccc1Br\\n  0.891432  3.12380\n",
            "95     COc1cc(OC)cc(C(=O)NC[C@@H](C)c2ccccc2)c1\\n  0.890508  3.23730\n"
          ]
        }
      ]
    },
    {
      "cell_type": "code",
      "source": [
        "import seaborn as sns\n",
        "import matplotlib.pyplot as plt\n",
        "\n",
        "sns.histplot(results_df['QED'], bins=20, kde=True)\n",
        "plt.title(\"Distribution of QED in Generated Molecules\")\n",
        "plt.show()"
      ],
      "metadata": {
        "colab": {
          "base_uri": "https://localhost:8080/",
          "height": 472
        },
        "id": "fYKOvOGuE2Gi",
        "outputId": "94e404b8-8b3d-435f-ed47-5fb69b4c588a"
      },
      "execution_count": 66,
      "outputs": [
        {
          "output_type": "display_data",
          "data": {
            "text/plain": [
              "<Figure size 640x480 with 1 Axes>"
            ],
            "image/png": "[encoded data removed]"
          },
          "metadata": {}
        }
      ]
    },
    {
      "cell_type": "code",
      "source": [
        "# Save top 50 molecules sorted by QED\n",
        "results_df.sort_values(by='QED', ascending=False).head(50).to_csv(\"top_candidates.csv\", index=False)"
      ],
      "metadata": {
        "id": "UB44zVrRE2DR"
      },
      "execution_count": 67,
      "outputs": []
    },
    {
      "cell_type": "code",
      "source": [
        "# Load previously saved best model\n",
        "# Instantiate the correct model architecture (LSTMGenerator)\n",
        "\n",
        "# The saved model was trained with hidden_dim=512 (the default in the original definition)\n",
        "# and num_layers=2 (the default).\n",
        "model = LSTMGenerator(len(vocab), embed_dim=128, hidden_dim=512, num_layers=2).to(device)\n",
        "\n",
        "# Load the state dictionary into the LSTM model\n",
        "model.load_state_dict(torch.load(\"best_lstm_generator.pth\"))\n",
        "model.train()\n",
        "\n",
        "# Optionally reduce LR\n",
        "for param_group in optimizer.param_groups:\n",
        "    param_group['lr'] = 0.0001"
      ],
      "metadata": {
        "id": "TGnGjUDiE2BP"
      },
      "execution_count": 71,
      "outputs": []
    },
    {
      "cell_type": "code",
      "source": [
        "def reinforce_update(model, optimizer, smiles_list, reward_function, char_to_idx):\n",
        "    model.train()\n",
        "    total_reward = 0\n",
        "    for smile in smiles_list:\n",
        "        tokens = [char_to_idx[c] for c in smile]\n",
        "        tokens = [char_to_idx['<START>']] + tokens + [char_to_idx['<END>']]\n",
        "        tokens = torch.tensor([tokens], device=device)\n",
        "\n",
        "        logits = model(tokens[:, :-1])\n",
        "        log_probs = torch.log_softmax(logits, dim=-1)\n",
        "\n",
        "        token_indices = tokens[:, 1:].flatten()\n",
        "        selected_log_probs = log_probs.gather(dim=-1, index=token_indices.unsqueeze(-1)).squeeze(-1)\n",
        "\n",
        "        reward = reward_function(smile)\n",
        "        total_reward += reward\n",
        "\n",
        "        # Weighted loss: negative reward → increase probability\n",
        "        loss = -(selected_log_probs * reward).mean()\n",
        "\n",
        "        optimizer.zero_grad()\n",
        "        loss.backward()\n",
        "        optimizer.step()\n",
        "\n",
        "    return total_reward / len(smiles_list)"
      ],
      "metadata": {
        "id": "Y789bh-fE_Dr"
      },
      "execution_count": 72,
      "outputs": []
    },
    {
      "cell_type": "code",
      "source": [
        "model = LSTMGenerator(len(vocab), embed_dim=128, hidden_dim=512, num_layers=2).to(device)"
      ],
      "metadata": {
        "id": "0xNQul4kF_tV"
      },
      "execution_count": 77,
      "outputs": []
    },
    {
      "cell_type": "code",
      "source": [
        "import torch\n",
        "import torch.nn as nn\n",
        "\n",
        "class LSTMGenerator(nn.Module):\n",
        "    def __init__(self, vocab_size, embed_dim=128, hidden_dim=512, num_layers=2):\n",
        "        super(LSTMGenerator, self).__init__()\n",
        "        self.embedding = nn.Embedding(vocab_size, embed_dim)\n",
        "        self.lstm = nn.LSTM(embed_dim, hidden_dim, num_layers, batch_first=True)\n",
        "        self.linear = nn.Linear(hidden_dim, vocab_size)\n",
        "\n",
        "    def forward(self, x):\n",
        "        x = self.embedding(x)\n",
        "        out, _ = self.lstm(x)\n",
        "        logits = self.linear(out)\n",
        "        return logits"
      ],
      "metadata": {
        "id": "ddPuvSAkF9FR"
      },
      "execution_count": 78,
      "outputs": []
    },
    {
      "cell_type": "code",
      "source": [
        "import pickle\n",
        "\n",
        "# Load vocab if needed\n",
        "with open(\"vocab.pkl\", \"rb\") as f:\n",
        "    vocab_data = pickle.load(f)\n",
        "    vocab = vocab_data[\"vocab\"]\n",
        "    char_to_idx = vocab_data[\"char_to_idx\"]\n",
        "    idx_to_char = vocab_data[\"idx_to_char\"]"
      ],
      "metadata": {
        "id": "L5PYI5CkGCfo"
      },
      "execution_count": 79,
      "outputs": []
    },
    {
      "cell_type": "code",
      "source": [
        "def generate_smiles(model, idx_to_char, char_to_idx, max_len=120):\n",
        "    model.eval()\n",
        "    with torch.no_grad():\n",
        "        input_seq = torch.tensor([[char_to_idx['<START>']]], device=device)\n",
        "        generated = []\n",
        "        for _ in range(max_len):\n",
        "            output = model(input_seq)\n",
        "            last_token_logits = output[0, -1, :]\n",
        "            probs = torch.softmax(last_token_logits, dim=-1)\n",
        "            pred_id = torch.multinomial(probs, 1).item()\n",
        "            if pred_id == char_to_idx['<END>']:\n",
        "                break\n",
        "            char = idx_to_char.get(pred_id, '<UNK>')\n",
        "            generated.append(char)\n",
        "            input_seq = torch.cat([input_seq, torch.tensor([[pred_id]], device=device)], dim=1)\n",
        "        return ''.join(generated)"
      ],
      "metadata": {
        "id": "X5iTLVpDGEwJ"
      },
      "execution_count": 80,
      "outputs": []
    },
    {
      "cell_type": "code",
      "source": [
        "def reinforce_update(model, optimizer, smiles_list, reward_function, char_to_idx):\n",
        "    model.train()\n",
        "    total_reward = 0\n",
        "    for smile in smiles_list:\n",
        "        # Convert SMILES string to token IDs\n",
        "        tokens = [char_to_idx.get(c, char_to_idx['<UNK>']) for c in smile]\n",
        "        tokens = [char_to_idx['<START>']] + tokens + [char_to_idx['<END>']]\n",
        "        tokens = torch.tensor([tokens], device=device) # Add batch dimension\n",
        "\n",
        "        # Get model outputs (logits) for the input sequence (excluding the last token)\n",
        "        inputs = tokens[:, :-1]\n",
        "        logits = model(inputs) # logits shape: (1, sequence_length_without_end, vocab_size)\n",
        "\n",
        "        # Calculate log probabilities over the vocabulary dimension\n",
        "        log_probs = torch.log_softmax(logits, dim=-1) # log_probs shape: (1, sequence_length_without_end, vocab_size)\n",
        "\n",
        "        # Get the actual target token IDs for the corresponding time steps\n",
        "        target_tokens = tokens[:, 1:] # target_tokens shape: (1, sequence_length_without_start)\n",
        "\n",
        "        # Reshape target_tokens to match the dimensions of log_probs for gathering\n",
        "        # We need to select the log probability of the actual target token at each position.\n",
        "        # target_tokens needs to be (1, sequence_length_without_start, 1) for gather.\n",
        "        token_indices = target_tokens.unsqueeze(-1) # shape: (1, sequence_length_without_start, 1)\n",
        "\n",
        "        # Use gather to select the log probability of the target token for each position\n",
        "        # input: (1, sequence_length, vocab_size), index: (1, sequence_length, 1)\n",
        "        # output: (1, sequence_length, 1) containing log_probs of target tokens\n",
        "        selected_log_probs = log_probs.gather(dim=-1, index=token_indices) # shape: (1, sequence_length_without_start, 1)\n",
        "\n",
        "        # Remove the last dimension to get a 2D tensor (batch_size=1, sequence_length)\n",
        "        selected_log_probs = selected_log_probs.squeeze(-1) # shape: (1, sequence_length_without_start)\n",
        "\n",
        "        # Calculate the reward for the generated molecule\n",
        "        reward = reward_function(smile)\n",
        "        total_reward += reward\n",
        "\n",
        "        # Calculate the loss using the REINFORCE principle\n",
        "        # Loss = - (log_probs * reward).mean()\n",
        "        # A higher reward should lead to a lower (more negative) loss,\n",
        "        # which encourages the model to increase the probability of the sampled sequence.\n",
        "        loss = -(selected_log_probs * reward).mean()\n",
        "\n",
        "        # Perform the optimization step\n",
        "        optimizer.zero_grad()\n",
        "        loss.backward()\n",
        "        optimizer.step()\n",
        "\n",
        "    return total_reward / len(smiles_list)"
      ],
      "metadata": {
        "id": "sVzlrazxGWhS"
      },
      "execution_count": 82,
      "outputs": []
    },
    {
      "cell_type": "code",
      "source": [
        "# Load previously saved best model\n",
        "# Instantiate the correct model architecture (LSTMGenerator)\n",
        "\n",
        "# The saved model was trained with hidden_dim=512 (the default in the original definition)\n",
        "# and num_layers=2 (the default).\n",
        "\n",
        "# **Ensure the LSTMGenerator class definition cell has been run successfully.**\n",
        "# Explicitly recreate the model instance right before loading and using it.\n",
        "model = LSTMGenerator(len(vocab), embed_dim=128, hidden_dim=512, num_layers=2).to(device)\n",
        "\n",
        "# Load the state dictionary into the LSTM model\n",
        "# This assumes \"best_lstm_generator.pth\" exists from a previous training run\n",
        "try:\n",
        "    model.load_state_dict(torch.load(\"best_lstm_generator.pth\"))\n",
        "    print(\"Model state dictionary loaded successfully.\")\n",
        "except FileNotFoundError:\n",
        "    print(\"Warning: best_lstm_generator.pth not found. Model will use random weights.\")\n",
        "except Exception as e:\n",
        "    print(f\"Error loading model state dictionary: {e}\")\n",
        "\n",
        "\n",
        "model.eval() # Set model to evaluation mode for generation\n",
        "\n",
        "# Optionally reduce LR (This is relevant for the subsequent reinforcement learning step)\n",
        "# If you are only doing generation here, this step is not strictly needed for generation,\n",
        "# but it's included as part of the original block.\n",
        "for param_group in optimizer.param_groups:\n",
        "    param_group['lr'] = 0.0001\n",
        "    print(f\"Optimizer learning rate set to: {param_group['lr']}\")\n",
        "\n",
        "\n",
        "# 7. Generate New Molecules\n",
        "# -----------------------------\n",
        "\n",
        "def generate_smiles(model, idx_to_char, char_to_idx, max_len=120):\n",
        "    model.eval() # Ensure model is in eval mode during generation\n",
        "    with torch.no_grad():\n",
        "        input_seq = torch.tensor([[char_to_idx['<START>']]], device=device)\n",
        "        generated = []\n",
        "        for _ in range(max_len):\n",
        "            # This is the call that failed previously\n",
        "            output = model(input_seq)\n",
        "            last_token_logits = output[0, -1, :]\n",
        "            probs = torch.softmax(last_token_logits, dim=-1)\n",
        "            # Use torch.multinomial for sampling based on probabilities\n",
        "            pred_id = torch.multinomial(probs, 1).item()\n",
        "            if pred_id == char_to_idx['<END>']:\n",
        "                break\n",
        "            # Handle cases where pred_id might be out of bounds due to errors\n",
        "            if pred_id not in idx_to_char:\n",
        "                 # Handle unexpected prediction, e.g., break or assign UNK\n",
        "                 # For simplicity, let's break generation for this molecule\n",
        "                 print(f\"Warning: Generated unexpected token ID: {pred_id}. Stopping generation for this molecule.\")\n",
        "                 break\n",
        "            char = idx_to_char[pred_id]\n",
        "            generated.append(char)\n",
        "            input_seq = torch.cat([input_seq, torch.tensor([[pred_id]], device=device)], dim=1)\n",
        "        return ''.join(generated)\n",
        "\n",
        "# Validate molecule\n",
        "def validate_molecule(smile):\n",
        "    # Catch potential RDKit errors during molecule creation\n",
        "    try:\n",
        "        mol = Chem.MolFromSmiles(smile)\n",
        "        return mol is not None\n",
        "    except Exception as e:\n",
        "        print(f\"Error validating SMILES '{smile}': {e}\")\n",
        "        return False\n",
        "\n",
        "\n",
        "# Define the reward function\n",
        "# Based on QED, higher QED is better\n",
        "def reward_function(smile):\n",
        "    mol = Chem.MolFromSmiles(smile)\n",
        "    if mol:\n",
        "        try:\n",
        "            # Return the QED value as the reward\n",
        "            return QED.qed(mol)\n",
        "        except:\n",
        "            # Handle potential errors in QED calculation for some valid molecules\n",
        "            return 0.0 # Assign a low reward if QED calculation fails\n",
        "    # Assign a low reward for invalid molecules (should be handled by filtering, but good practice)\n",
        "    return 0.0\n",
        "\n",
        "# Generate and evaluate\n",
        "# Generate more molecules to have a larger pool for properties and RL\n",
        "generated_smiles = [generate_smiles(model, idx_to_char, char_to_idx) for _ in range(200)] # Increased generation count\n",
        "# Assign the list of valid smiles to 'valid_molecules'\n",
        "valid_molecules = [s for s in generated_smiles if validate_molecule(s)]\n",
        "\n",
        "print(f\"\\n🧪 Generated Molecules:\")\n",
        "for i, sm in enumerate(valid_molecules[:10]):\n",
        "    print(f\"{i+1}: {sm}\")\n",
        "\n",
        "print(f\"\\n✅ Valid molecules: {len(valid_molecules)} / {len(generated_smiles)}\")\n",
        "\n",
        "# -----------------------------\n",
        "# 8. Calculate Molecular Properties\n",
        "# -----------------------------\n",
        "\n",
        "def get_properties(smile):\n",
        "    mol = Chem.MolFromSmiles(smile)\n",
        "    if mol:\n",
        "        try:\n",
        "            return {\n",
        "                'logP': Descriptors.MolLogP(mol),\n",
        "                'QED': QED.qed(mol),\n",
        "            }\n",
        "        except Exception as e:\n",
        "             # Return None if any descriptor calculation fails for a valid molecule\n",
        "             print(f\"Error calculating properties for SMILES '{smile}': {e}\")\n",
        "             return None\n",
        "    return None # Return None for invalid molecules\n",
        "\n",
        "\n",
        "# Ensure 'valid_molecules' is defined before using it to calculate properties\n",
        "props = [get_properties(sm) for sm in valid_molecules]\n",
        "if props:\n",
        "    # Filter out None values before calculating mean\n",
        "    valid_props = [p for p in props if p is not None]\n",
        "    if valid_props:\n",
        "        logps = [p['logP'] for p in valid_props]\n",
        "        qeds = [p['QED'] for p in valid_props]\n",
        "        print(f\"Avg LogP: {np.mean(logps):.2f}, Avg QED: {np.mean(qeds):.2f}\")\n",
        "    else:\n",
        "        print(\"No valid molecules with computable properties.\")\n",
        "else:\n",
        "    print(\"No valid molecules to compute properties.\")\n",
        "\n",
        "# Create the results_df DataFrame\n",
        "# Filter out None values from props and corresponding valid_molecules SMILES\n",
        "valid_with_props = [(valid_molecules[i], p) for i, p in enumerate(props) if p is not None]\n",
        "\n",
        "# Extract SMILES and properties into separate lists for DataFrame creation\n",
        "if valid_with_props:\n",
        "    smiles_for_df = [item[0] for item in valid_with_props]\n",
        "    qed_for_df = [item[1]['QED'] for item in valid_with_props]\n",
        "    logp_for_df = [item[1]['logP'] for item in valid_with_props] # Corrected key to 'logP'\n",
        "\n",
        "    # Create the DataFrame\n",
        "    results_df = pd.DataFrame({\n",
        "        'SMILES': smiles_for_df,\n",
        "        'QED': qed_for_df,\n",
        "        'LogP': logp_for_df\n",
        "    })\n",
        "\n",
        "    # Now you can use results_df\n",
        "    if not results_df.empty:\n",
        "        top_mols = results_df.sort_values(by='QED', ascending=False).head(10)\n",
        "        print(\"\\nTop 10 Molecules by QED:\")\n",
        "        print(top_mols[['SMILES', 'QED', 'LogP']])\n",
        "\n",
        "        # Optional: Display QED distribution histogram\n",
        "        # import seaborn as sns\n",
        "        # import matplotlib.pyplot as plt\n",
        "        # sns.histplot(results_df['QED'], bins=20, kde=True)\n",
        "        # plt.title(\"Distribution of QED in Generated Molecules\")\n",
        "        # plt.show()\n",
        "\n",
        "        # Optional: Save top candidates\n",
        "        # results_df.sort_values(by='QED', ascending=False).head(50).to_csv(\"top_candidates.csv\", index=False)\n",
        "        # print(\"\\nTop 50 candidates saved to top_candidates.csv\")\n",
        "\n",
        "    else:\n",
        "        print(\"\\nNo data in results_df to display top molecules or distributions.\")\n",
        "else:\n",
        "     print(\"\\nNo valid molecules with computable properties to create results_df.\")\n",
        "\n",
        "\n",
        "# Continue with the reinforcement learning step\n",
        "# Ensure you have enough valid molecules for the batch size (50)\n",
        "if len(valid_molecules) > 0:\n",
        "    # Put the model back into training mode for RL\n",
        "    model.train()\n",
        "    avg_reward = reinforce_update(model, optimizer, valid_molecules[:min(50, len(valid_molecules))], reward_function, char_to_idx)\n",
        "    print(f\"\\nAvg reward after update (using {min(50, len(valid_molecules))} molecules): {avg_reward:.3f}\")\n",
        "else:\n",
        "    print(\"\\nNo valid molecules generated for reinforcement learning update.\")"
      ],
      "metadata": {
        "colab": {
          "base_uri": "https://localhost:8080/"
        },
        "id": "AMqZooo4E_AA",
        "outputId": "a2a78ab2-8bea-4cf1-e75e-a42fc9e9c48b"
      },
      "execution_count": 83,
      "outputs": [
        {
          "output_type": "stream",
          "name": "stdout",
          "text": [
            "Model state dictionary loaded successfully.\n",
            "Optimizer learning rate set to: 0.0001\n"
          ]
        },
        {
          "output_type": "stream",
          "name": "stderr",
          "text": [
            "[20:33:01] SMILES Parse Error: extra open parentheses for input: 'COc1cc(OC)cc(N(Cc2cc3ccc(C)cc3[nH]c2=O)S(C)(=O)=O\n",
            "'\n",
            "[20:33:01] SMILES Parse Error: unclosed ring for input: 'CCC[NH2+][C@@]1(C(C)(C)C)C[C@]2(C)C[C@@H]3CC[C@H](B4)[C@H]3C[C@@H]2O1\n",
            "'\n",
            "[20:33:01] Can't kekulize mol.  Unkekulized atoms: 7 8 10 11 12 13 14 15 16\n",
            "[20:33:01] Can't kekulize mol.  Unkekulized atoms: 16 17 18\n",
            "[20:33:01] SMILES Parse Error: unclosed ring for input: 'Cc1cc(N2C[C@@H]3[C@H](C2)Cn2c3c(nc4ccccc42)cn3)no1\n",
            "'\n",
            "[20:33:01] SMILES Parse Error: unclosed ring for input: 'CCCc1nc2sc3c(c2cc(C)nn1CCOC)CC(C)(C)[NH3+]CCC\n",
            "'\n",
            "[20:33:01] Can't kekulize mol.  Unkekulized atoms: 6 7 24 25 26 27 28 29 30\n",
            "[20:33:01] Can't kekulize mol.  Unkekulized atoms: 2 3 4 14 16\n"
          ]
        },
        {
          "output_type": "stream",
          "name": "stdout",
          "text": [
            "\n",
            "🧪 Generated Molecules:\n",
            "1: COc1cccc(NC(=O)NCCCC[NH+]2CCN(c3ccccc3)CC2)c1\n",
            "\n",
            "2: COc1ccc(C2=NS(=O)(=O)N(C)C(C(=O)N3CCC(c4cccs4)CC3)[C@H]2c2ccccc2OC)cc1\n",
            "\n",
            "3: Cc1[nH+]cn(C[C@@H]2CCCN2S(=O)(=O)C2CCCC2)c1C\n",
            "\n",
            "4: COc1cccc(CC(=O)N2CCc3c(nc(-c4ccccc4OC)nc3[S-])[C@@H]2C)c1\n",
            "\n",
            "5: C[C@H](NS(=O)(=O)c1cnn(C)c1)C(=O)Nc1ccc2c(c1)COC2\n",
            "\n",
            "6: O=C(Cc1ccccc1)N1CCC(C(=O)Nc2ccccc2C(=O)N2CCCC2)CC1\n",
            "\n",
            "7: CCCc1cc(NC(=O)c2nc([O-])c(-c3ccccc3)cc2[N+](=O)[O-])on1\n",
            "\n",
            "8: O=C(CCSc1ccc2c(c1)OCCCO2)NC(=O)NCC(F)(F)F\n",
            "\n",
            "9: Cc1ccc(Cn2ccc3sc(N)c(C#N)c32)cc1\n",
            "\n",
            "10: O=C(CCCNC(=O)c1sc2ccccc2c1Cl)N1CCOCC1\n",
            "\n",
            "\n",
            "✅ Valid molecules: 192 / 200\n",
            "Avg LogP: 2.52, Avg QED: 0.73\n",
            "\n",
            "Top 10 Molecules by QED:\n",
            "                                                SMILES       QED     LogP\n",
            "66              Cc1noc([O-])c1C(=O)Nc1ccccc1N1CCCCC1\\n  0.940251  2.29922\n",
            "174             COc1ccc(-c2ccc(S(C)(=O)=O)cc2)c(O)c1\\n  0.936444  2.47130\n",
            "43                    O=S(=O)(Nc1ccncc1)c1c(F)cccc1F\\n  0.929365  2.16060\n",
            "67                 CN(C)c1ccc(CCC(=O)Nc2sccc2C#N)cc1\\n  0.921668  3.25708\n",
            "41                     O=C(Nc1ccc(Cl)cc1)OCCN1CCOCC1\\n  0.921033  2.22070\n",
            "90   C[C@@H]1CN(C(=O)CCCc2nc[nH]n2)C[C@@H](c2ccccc2...  0.917386  2.11600\n",
            "165     COCC(=O)N[C@@H]1CC[C@@H](C)CN1c1cc[nH+]cc1Cl\\n  0.915893  1.47910\n",
            "48            O=C(Nc1ccccc1)NC1CCN(C(=O)c2ccccc2)CC1\\n  0.911511  3.11290\n",
            "173    Cc1noc(C)c1[C@H](C)NC(=O)N1CCC[C@H]1CN1CCOCC1\\n  0.908617  1.85864\n",
            "21             COCC[C@@H](C)C(=O)Nc1sc2c(c1C#N)CCCC2\\n  0.906682  3.10968\n",
            "\n",
            "Avg reward after update (using 50 molecules): 0.742\n"
          ]
        }
      ]
    },
    {
      "cell_type": "code",
      "source": [],
      "metadata": {
        "id": "iqnGzIO4Gv7C"
      },
      "execution_count": null,
      "outputs": []
    }
  ]
}